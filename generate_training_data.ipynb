{
 "cells": [
  {
   "cell_type": "code",
   "execution_count": 1,
   "metadata": {},
   "outputs": [],
   "source": [
    "import psycopg2 as pg\n",
    "import pandas as pd\n",
    "import pandas.io.sql as psql\n",
    "from datetime import timedelta\n",
    "\n",
    "import warnings\n",
    "warnings.filterwarnings('ignore')"
   ]
  },
  {
   "cell_type": "markdown",
   "metadata": {},
   "source": [
    "Connect to the database and fetch the person_visit_death_with_concepts table"
   ]
  },
  {
   "cell_type": "code",
   "execution_count": 2,
   "metadata": {},
   "outputs": [],
   "source": [
    "def fetch_data(dbname, user, table):\n",
    "    connection = pg.connect('host=localhost dbname='+dbname+' user='+user+' password=\\''+password+'\\'')\n",
    "    df = pd.read_sql_query('SELECT * FROM '+ table,con=connection)\n",
    "    connection.close()\n",
    "    return df"
   ]
  },
  {
   "cell_type": "code",
   "execution_count": 4,
   "metadata": {},
   "outputs": [],
   "source": [
    "dbname = 'commondatamodel'\n",
    "user = 'romirmoza'\n",
    "table = 'person_visit_death_with_concepts'\n",
    "df = fetch_data(dbname, user, table)"
   ]
  },
  {
   "cell_type": "markdown",
   "metadata": {},
   "source": [
    "Convert dates to the correct datatype"
   ]
  },
  {
   "cell_type": "code",
   "execution_count": 5,
   "metadata": {},
   "outputs": [
    {
     "data": {
      "text/plain": [
       "Index(['year_of_birth', 'ethnicity_concept_id', 'person_id', 'month_of_birth',\n",
       "       'day_of_birth', 'race_concept_id', 'gender_concept_id',\n",
       "       'birth_datetime', 'visit_start_date', 'preceding_visit_occurrence_id',\n",
       "       'visit_occurrence_id', 'visit_end_date', 'visit_concept_id',\n",
       "       'visit_type_concept_id', 'discharge_to_concept_id', 'race_concept_name',\n",
       "       'visit_concept_name', 'death_date', 'death_datetime',\n",
       "       'death_type_concept_id'],\n",
       "      dtype='object')"
      ]
     },
     "execution_count": 5,
     "metadata": {},
     "output_type": "execute_result"
    }
   ],
   "source": [
    "df.columns"
   ]
  },
  {
   "cell_type": "code",
   "execution_count": 6,
   "metadata": {},
   "outputs": [],
   "source": [
    "df[['visit_start_date','visit_end_date', 'death_date']] = \\\n",
    "df[['visit_start_date','visit_end_date', 'death_date']].apply(pd.to_datetime, format='%Y-%m-%d')"
   ]
  },
  {
   "cell_type": "markdown",
   "metadata": {},
   "source": [
    "Add visit_duration columns"
   ]
  },
  {
   "cell_type": "code",
   "execution_count": 7,
   "metadata": {
    "scrolled": true
   },
   "outputs": [],
   "source": [
    "df['visit_duration'] = df['visit_end_date'] - df['visit_start_date']"
   ]
  },
  {
   "cell_type": "code",
   "execution_count": 8,
   "metadata": {},
   "outputs": [
    {
     "name": "stdout",
     "output_type": "stream",
     "text": [
      "2010-05-25 00:00:00\n",
      "2007-12-23 00:00:00\n"
     ]
    }
   ],
   "source": [
    "max_visit_start_date =  df['visit_start_date'].max()\n",
    "min_visit_start_date =  df['visit_start_date'].min()\n",
    "print(max_visit_start_date)\n",
    "print(min_visit_start_date)"
   ]
  },
  {
   "cell_type": "code",
   "execution_count": 9,
   "metadata": {},
   "outputs": [],
   "source": [
    "def check_death_flag(x, window_size):\n",
    "    if x.death_date - x.visit_start_date < window_size and x.death_date - x.visit_start_date >= timedelta(days = 0):\n",
    "        return 1\n",
    "    return 0"
   ]
  },
  {
   "cell_type": "markdown",
   "metadata": {},
   "source": [
    "Generate windows of training data with window_id being the identifier. Every row has a death_in_next_window field that informs us whether the person dies in the next window."
   ]
  },
  {
   "cell_type": "code",
   "execution_count": 10,
   "metadata": {
    "scrolled": true
   },
   "outputs": [],
   "source": [
    "window_size = timedelta(days = 180)\n",
    "window_start = min_visit_start_date\n",
    "window_id = 0\n",
    "while window_start < max_visit_start_date:\n",
    "    df_window = df[(df['visit_start_date'] >= window_start) & (df['visit_start_date'] < window_start + window_size)]\n",
    "    df_window['death_in_next_window'] = df_window.apply(lambda x: check_death_flag(x, window_size), axis=1)\n",
    "    \n",
    "    agg_df = df_window.groupby('person_id').agg({'person_id': 'max',\n",
    "                                                 'year_of_birth': 'max',\n",
    "                                                 'birth_datetime': 'max',\n",
    "                                                 'visit_start_date': 'max',\n",
    "                                                 'ethnicity_concept_id': 'max',\n",
    "                                                 'race_concept_id': 'max',\n",
    "                                                 'gender_concept_id': 'max',\n",
    "                                                 'race_concept_name': 'max',\n",
    "                                                 'visit_occurrence_id': 'nunique',\n",
    "                                                 'visit_concept_name': 'count',\n",
    "                                                 'visit_duration': 'sum',\n",
    "                                                 'death_in_next_window': 'max'\n",
    "                                                }).rename(columns={'visit_occurrence_id': 'number_of_visits'})\n",
    "\n",
    "\n",
    "    visit_counts = df_window.groupby('person_id').apply(lambda x: pd.Series(dict(\n",
    "        inpatient_visit_count  = (x.visit_concept_name == 'Inpatient Visit').sum(),\n",
    "        outpatient_visit_count = (x.visit_concept_name == 'Outpatient Visit').sum(),\n",
    "        er_visit_count         = (x.visit_concept_name == 'Emergency Room Visit').sum()\n",
    "        )))    \n",
    "    agg_df = agg_df.join(visit_counts)\n",
    "    agg_df['window_id'] = window_id\n",
    "    agg_df.reset_index(drop=True)\n",
    "    if not window_id:\n",
    "        training_data = agg_df.copy()\n",
    "    else:\n",
    "        training_data = pd.concat([training_data, agg_df], ignore_index=True)\n",
    "    window_id += 1\n",
    "    window_start += window_size"
   ]
  },
  {
   "cell_type": "code",
   "execution_count": 11,
   "metadata": {},
   "outputs": [
    {
     "data": {
      "text/plain": [
       "person_id                           int64\n",
       "year_of_birth                       int64\n",
       "birth_datetime             datetime64[ns]\n",
       "visit_start_date           datetime64[ns]\n",
       "ethnicity_concept_id              float64\n",
       "race_concept_id                   float64\n",
       "gender_concept_id                   int64\n",
       "race_concept_name                  object\n",
       "number_of_visits                    int64\n",
       "visit_concept_name                  int64\n",
       "visit_duration            timedelta64[ns]\n",
       "death_in_next_window                int64\n",
       "inpatient_visit_count               int64\n",
       "outpatient_visit_count              int64\n",
       "er_visit_count                      int64\n",
       "window_id                           int64\n",
       "dtype: object"
      ]
     },
     "execution_count": 11,
     "metadata": {},
     "output_type": "execute_result"
    }
   ],
   "source": [
    "training_data.dtypes"
   ]
  },
  {
   "cell_type": "code",
   "execution_count": 12,
   "metadata": {},
   "outputs": [
    {
     "data": {
      "text/plain": [
       "0       2008\n",
       "1       2008\n",
       "2       2008\n",
       "3       2008\n",
       "4       2008\n",
       "        ... \n",
       "2962    2010\n",
       "2963    2010\n",
       "2964    2010\n",
       "2965    2010\n",
       "2966    2010\n",
       "Name: visit_start_date, Length: 2967, dtype: int64"
      ]
     },
     "execution_count": 12,
     "metadata": {},
     "output_type": "execute_result"
    }
   ],
   "source": [
    "training_data.visit_start_date.dt.year"
   ]
  },
  {
   "cell_type": "code",
   "execution_count": 13,
   "metadata": {},
   "outputs": [
    {
     "data": {
      "text/html": [
       "<div>\n",
       "<style scoped>\n",
       "    .dataframe tbody tr th:only-of-type {\n",
       "        vertical-align: middle;\n",
       "    }\n",
       "\n",
       "    .dataframe tbody tr th {\n",
       "        vertical-align: top;\n",
       "    }\n",
       "\n",
       "    .dataframe thead th {\n",
       "        text-align: right;\n",
       "    }\n",
       "</style>\n",
       "<table border=\"1\" class=\"dataframe\">\n",
       "  <thead>\n",
       "    <tr style=\"text-align: right;\">\n",
       "      <th></th>\n",
       "      <th>person_id</th>\n",
       "      <th>year_of_birth</th>\n",
       "      <th>birth_datetime</th>\n",
       "      <th>visit_start_date</th>\n",
       "      <th>ethnicity_concept_id</th>\n",
       "      <th>race_concept_id</th>\n",
       "      <th>gender_concept_id</th>\n",
       "      <th>race_concept_name</th>\n",
       "      <th>number_of_visits</th>\n",
       "      <th>visit_concept_name</th>\n",
       "      <th>visit_duration</th>\n",
       "      <th>death_in_next_window</th>\n",
       "      <th>inpatient_visit_count</th>\n",
       "      <th>outpatient_visit_count</th>\n",
       "      <th>er_visit_count</th>\n",
       "      <th>window_id</th>\n",
       "    </tr>\n",
       "  </thead>\n",
       "  <tbody>\n",
       "    <tr>\n",
       "      <th>0</th>\n",
       "      <td>126</td>\n",
       "      <td>1932</td>\n",
       "      <td>NaT</td>\n",
       "      <td>2008-02-12</td>\n",
       "      <td>38003564.0</td>\n",
       "      <td>8552.0</td>\n",
       "      <td>8532</td>\n",
       "      <td>Unknown</td>\n",
       "      <td>1</td>\n",
       "      <td>0</td>\n",
       "      <td>0 days</td>\n",
       "      <td>1</td>\n",
       "      <td>0</td>\n",
       "      <td>0</td>\n",
       "      <td>0</td>\n",
       "      <td>0</td>\n",
       "    </tr>\n",
       "    <tr>\n",
       "      <th>1</th>\n",
       "      <td>1362</td>\n",
       "      <td>1937</td>\n",
       "      <td>NaT</td>\n",
       "      <td>2008-05-08</td>\n",
       "      <td>38003564.0</td>\n",
       "      <td>8557.0</td>\n",
       "      <td>8507</td>\n",
       "      <td>Native Hawaiian or Other Pacific Islander</td>\n",
       "      <td>1</td>\n",
       "      <td>0</td>\n",
       "      <td>0 days</td>\n",
       "      <td>0</td>\n",
       "      <td>0</td>\n",
       "      <td>0</td>\n",
       "      <td>0</td>\n",
       "      <td>0</td>\n",
       "    </tr>\n",
       "    <tr>\n",
       "      <th>2</th>\n",
       "      <td>2225</td>\n",
       "      <td>1938</td>\n",
       "      <td>NaT</td>\n",
       "      <td>2008-06-13</td>\n",
       "      <td>38003564.0</td>\n",
       "      <td>8515.0</td>\n",
       "      <td>8532</td>\n",
       "      <td>Asian</td>\n",
       "      <td>3</td>\n",
       "      <td>1</td>\n",
       "      <td>2 days</td>\n",
       "      <td>0</td>\n",
       "      <td>0</td>\n",
       "      <td>1</td>\n",
       "      <td>0</td>\n",
       "      <td>0</td>\n",
       "    </tr>\n",
       "    <tr>\n",
       "      <th>3</th>\n",
       "      <td>2249</td>\n",
       "      <td>1942</td>\n",
       "      <td>NaT</td>\n",
       "      <td>2008-02-16</td>\n",
       "      <td>NaN</td>\n",
       "      <td>8516.0</td>\n",
       "      <td>8532</td>\n",
       "      <td>Black or African American</td>\n",
       "      <td>1</td>\n",
       "      <td>0</td>\n",
       "      <td>0 days</td>\n",
       "      <td>1</td>\n",
       "      <td>0</td>\n",
       "      <td>0</td>\n",
       "      <td>0</td>\n",
       "      <td>0</td>\n",
       "    </tr>\n",
       "    <tr>\n",
       "      <th>4</th>\n",
       "      <td>2580</td>\n",
       "      <td>1919</td>\n",
       "      <td>NaT</td>\n",
       "      <td>2008-03-13</td>\n",
       "      <td>NaN</td>\n",
       "      <td>8557.0</td>\n",
       "      <td>8507</td>\n",
       "      <td>Native Hawaiian or Other Pacific Islander</td>\n",
       "      <td>2</td>\n",
       "      <td>1</td>\n",
       "      <td>0 days</td>\n",
       "      <td>0</td>\n",
       "      <td>0</td>\n",
       "      <td>1</td>\n",
       "      <td>0</td>\n",
       "      <td>0</td>\n",
       "    </tr>\n",
       "  </tbody>\n",
       "</table>\n",
       "</div>"
      ],
      "text/plain": [
       "   person_id  year_of_birth birth_datetime visit_start_date  \\\n",
       "0        126           1932            NaT       2008-02-12   \n",
       "1       1362           1937            NaT       2008-05-08   \n",
       "2       2225           1938            NaT       2008-06-13   \n",
       "3       2249           1942            NaT       2008-02-16   \n",
       "4       2580           1919            NaT       2008-03-13   \n",
       "\n",
       "   ethnicity_concept_id  race_concept_id  gender_concept_id  \\\n",
       "0            38003564.0           8552.0               8532   \n",
       "1            38003564.0           8557.0               8507   \n",
       "2            38003564.0           8515.0               8532   \n",
       "3                   NaN           8516.0               8532   \n",
       "4                   NaN           8557.0               8507   \n",
       "\n",
       "                           race_concept_name  number_of_visits  \\\n",
       "0                                    Unknown                 1   \n",
       "1  Native Hawaiian or Other Pacific Islander                 1   \n",
       "2                                      Asian                 3   \n",
       "3                  Black or African American                 1   \n",
       "4  Native Hawaiian or Other Pacific Islander                 2   \n",
       "\n",
       "   visit_concept_name visit_duration  death_in_next_window  \\\n",
       "0                   0         0 days                     1   \n",
       "1                   0         0 days                     0   \n",
       "2                   1         2 days                     0   \n",
       "3                   0         0 days                     1   \n",
       "4                   1         0 days                     0   \n",
       "\n",
       "   inpatient_visit_count  outpatient_visit_count  er_visit_count  window_id  \n",
       "0                      0                       0               0          0  \n",
       "1                      0                       0               0          0  \n",
       "2                      0                       1               0          0  \n",
       "3                      0                       0               0          0  \n",
       "4                      0                       1               0          0  "
      ]
     },
     "execution_count": 13,
     "metadata": {},
     "output_type": "execute_result"
    }
   ],
   "source": [
    "training_data.head()"
   ]
  },
  {
   "cell_type": "code",
   "execution_count": 14,
   "metadata": {},
   "outputs": [],
   "source": [
    "training_data['old'] = training_data.visit_start_date.dt.year - training_data.year_of_birth\n",
    "\n",
    "training_data = training_data.drop(['year_of_birth', 'birth_datetime'], axis=1)"
   ]
  },
  {
   "cell_type": "code",
   "execution_count": 15,
   "metadata": {},
   "outputs": [
    {
     "data": {
      "text/html": [
       "<div>\n",
       "<style scoped>\n",
       "    .dataframe tbody tr th:only-of-type {\n",
       "        vertical-align: middle;\n",
       "    }\n",
       "\n",
       "    .dataframe tbody tr th {\n",
       "        vertical-align: top;\n",
       "    }\n",
       "\n",
       "    .dataframe thead th {\n",
       "        text-align: right;\n",
       "    }\n",
       "</style>\n",
       "<table border=\"1\" class=\"dataframe\">\n",
       "  <thead>\n",
       "    <tr style=\"text-align: right;\">\n",
       "      <th></th>\n",
       "      <th>person_id</th>\n",
       "      <th>visit_start_date</th>\n",
       "      <th>ethnicity_concept_id</th>\n",
       "      <th>race_concept_id</th>\n",
       "      <th>gender_concept_id</th>\n",
       "      <th>race_concept_name</th>\n",
       "      <th>number_of_visits</th>\n",
       "      <th>visit_concept_name</th>\n",
       "      <th>visit_duration</th>\n",
       "      <th>death_in_next_window</th>\n",
       "      <th>inpatient_visit_count</th>\n",
       "      <th>outpatient_visit_count</th>\n",
       "      <th>er_visit_count</th>\n",
       "      <th>window_id</th>\n",
       "      <th>old</th>\n",
       "    </tr>\n",
       "  </thead>\n",
       "  <tbody>\n",
       "    <tr>\n",
       "      <th>2</th>\n",
       "      <td>2225</td>\n",
       "      <td>2008-06-13</td>\n",
       "      <td>38003564.0</td>\n",
       "      <td>8515.0</td>\n",
       "      <td>8532</td>\n",
       "      <td>Asian</td>\n",
       "      <td>3</td>\n",
       "      <td>1</td>\n",
       "      <td>2 days</td>\n",
       "      <td>0</td>\n",
       "      <td>0</td>\n",
       "      <td>1</td>\n",
       "      <td>0</td>\n",
       "      <td>0</td>\n",
       "      <td>70</td>\n",
       "    </tr>\n",
       "    <tr>\n",
       "      <th>561</th>\n",
       "      <td>2225</td>\n",
       "      <td>2008-12-03</td>\n",
       "      <td>38003564.0</td>\n",
       "      <td>8515.0</td>\n",
       "      <td>8532</td>\n",
       "      <td>Asian</td>\n",
       "      <td>4</td>\n",
       "      <td>1</td>\n",
       "      <td>2 days</td>\n",
       "      <td>0</td>\n",
       "      <td>1</td>\n",
       "      <td>0</td>\n",
       "      <td>0</td>\n",
       "      <td>1</td>\n",
       "      <td>70</td>\n",
       "    </tr>\n",
       "    <tr>\n",
       "      <th>1193</th>\n",
       "      <td>2225</td>\n",
       "      <td>2009-02-27</td>\n",
       "      <td>38003564.0</td>\n",
       "      <td>8515.0</td>\n",
       "      <td>8532</td>\n",
       "      <td>Asian</td>\n",
       "      <td>1</td>\n",
       "      <td>0</td>\n",
       "      <td>0 days</td>\n",
       "      <td>0</td>\n",
       "      <td>0</td>\n",
       "      <td>0</td>\n",
       "      <td>0</td>\n",
       "      <td>2</td>\n",
       "      <td>71</td>\n",
       "    </tr>\n",
       "    <tr>\n",
       "      <th>1799</th>\n",
       "      <td>2225</td>\n",
       "      <td>2009-12-07</td>\n",
       "      <td>38003564.0</td>\n",
       "      <td>8515.0</td>\n",
       "      <td>8532</td>\n",
       "      <td>Asian</td>\n",
       "      <td>4</td>\n",
       "      <td>1</td>\n",
       "      <td>0 days</td>\n",
       "      <td>0</td>\n",
       "      <td>0</td>\n",
       "      <td>1</td>\n",
       "      <td>0</td>\n",
       "      <td>3</td>\n",
       "      <td>71</td>\n",
       "    </tr>\n",
       "    <tr>\n",
       "      <th>2423</th>\n",
       "      <td>2225</td>\n",
       "      <td>2010-05-17</td>\n",
       "      <td>38003564.0</td>\n",
       "      <td>8515.0</td>\n",
       "      <td>8532</td>\n",
       "      <td>Asian</td>\n",
       "      <td>2</td>\n",
       "      <td>0</td>\n",
       "      <td>0 days</td>\n",
       "      <td>0</td>\n",
       "      <td>0</td>\n",
       "      <td>0</td>\n",
       "      <td>0</td>\n",
       "      <td>4</td>\n",
       "      <td>72</td>\n",
       "    </tr>\n",
       "  </tbody>\n",
       "</table>\n",
       "</div>"
      ],
      "text/plain": [
       "      person_id visit_start_date  ethnicity_concept_id  race_concept_id  \\\n",
       "2          2225       2008-06-13            38003564.0           8515.0   \n",
       "561        2225       2008-12-03            38003564.0           8515.0   \n",
       "1193       2225       2009-02-27            38003564.0           8515.0   \n",
       "1799       2225       2009-12-07            38003564.0           8515.0   \n",
       "2423       2225       2010-05-17            38003564.0           8515.0   \n",
       "\n",
       "      gender_concept_id race_concept_name  number_of_visits  \\\n",
       "2                  8532             Asian                 3   \n",
       "561                8532             Asian                 4   \n",
       "1193               8532             Asian                 1   \n",
       "1799               8532             Asian                 4   \n",
       "2423               8532             Asian                 2   \n",
       "\n",
       "      visit_concept_name visit_duration  death_in_next_window  \\\n",
       "2                      1         2 days                     0   \n",
       "561                    1         2 days                     0   \n",
       "1193                   0         0 days                     0   \n",
       "1799                   1         0 days                     0   \n",
       "2423                   0         0 days                     0   \n",
       "\n",
       "      inpatient_visit_count  outpatient_visit_count  er_visit_count  \\\n",
       "2                         0                       1               0   \n",
       "561                       1                       0               0   \n",
       "1193                      0                       0               0   \n",
       "1799                      0                       1               0   \n",
       "2423                      0                       0               0   \n",
       "\n",
       "      window_id  old  \n",
       "2             0   70  \n",
       "561           1   70  \n",
       "1193          2   71  \n",
       "1799          3   71  \n",
       "2423          4   72  "
      ]
     },
     "execution_count": 15,
     "metadata": {},
     "output_type": "execute_result"
    }
   ],
   "source": [
    "training_data[training_data.person_id == 2225]"
   ]
  },
  {
   "cell_type": "code",
   "execution_count": 16,
   "metadata": {},
   "outputs": [
    {
     "data": {
      "text/plain": [
       "array([0, 1, 2, 3, 4])"
      ]
     },
     "execution_count": 16,
     "metadata": {},
     "output_type": "execute_result"
    }
   ],
   "source": [
    "training_data.window_id.unique()"
   ]
  },
  {
   "cell_type": "code",
   "execution_count": 17,
   "metadata": {},
   "outputs": [
    {
     "data": {
      "text/plain": [
       "array([0])"
      ]
     },
     "execution_count": 17,
     "metadata": {},
     "output_type": "execute_result"
    }
   ],
   "source": [
    "training_data.er_visit_count.unique()"
   ]
  }
 ],
 "metadata": {
  "kernelspec": {
   "display_name": "Python 3",
   "language": "python",
   "name": "python3"
  },
  "language_info": {
   "codemirror_mode": {
    "name": "ipython",
    "version": 3
   },
   "file_extension": ".py",
   "mimetype": "text/x-python",
   "name": "python",
   "nbconvert_exporter": "python",
   "pygments_lexer": "ipython3",
   "version": "3.7.4"
  }
 },
 "nbformat": 4,
 "nbformat_minor": 2
}
