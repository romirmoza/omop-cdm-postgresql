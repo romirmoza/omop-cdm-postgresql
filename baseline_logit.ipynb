{
 "cells": [
  {
   "cell_type": "markdown",
   "metadata": {},
   "source": [
    "#  Baseline Logit Model"
   ]
  },
  {
   "cell_type": "code",
   "execution_count": 1,
   "metadata": {},
   "outputs": [],
   "source": [
    "import datetime\n",
    "import numpy as np\n",
    "import pandas as pd\n",
    "from datetime import datetime\n",
    "import matplotlib as mpl\n",
    "import matplotlib.pyplot as plt\n",
    "'''for implementing simple logisticregression'''\n",
    "import sklearn\n",
    "from sklearn.linear_model import LogisticRegressionCV\n",
    "from sklearn.linear_model import LogisticRegression\n",
    "from sklearn.preprocessing import MinMaxScaler\n",
    "from sklearn.model_selection import GridSearchCV\n",
    "'''for saving models'''\n",
    "from joblib import dump"
   ]
  },
  {
   "cell_type": "code",
   "execution_count": 2,
   "metadata": {},
   "outputs": [
    {
     "name": "stdout",
     "output_type": "stream",
     "text": [
      "2020-01-15 13:22:33.930485\n",
      "OS: Darwin\n",
      "Python: 3.7.3 (default, Mar 27 2019, 16:54:48) \n",
      "[Clang 4.0.1 (tags/RELEASE_401/final)]\n",
      "numpy: 1.16.2\n",
      "pandas: 0.25.3\n",
      "sklearn: 0.22.1\n"
     ]
    }
   ],
   "source": [
    "# MANIFEST - list of versions on board \n",
    "import sys\n",
    "import os\n",
    "print(pd.datetime.now())\n",
    "print('OS: '+os.uname().sysname)\n",
    "print('Python: '+sys.version)\n",
    "print('numpy: '+np.__version__)\n",
    "print('pandas: '+pd.__version__)\n",
    "print('sklearn: '+sklearn.__version__)"
   ]
  },
  {
   "cell_type": "code",
   "execution_count": 3,
   "metadata": {},
   "outputs": [],
   "source": [
    "ROOT=\"../mortality_prediction_docker_model/v2/\"\n",
    "SCRATCH = 'scratch/'\n",
    "TT = 'train/'   # Train or Test folder\n",
    "FILE_STR = 'train'"
   ]
  },
  {
   "cell_type": "markdown",
   "metadata": {},
   "source": [
    "## Feature Generation"
   ]
  },
  {
   "cell_type": "code",
   "execution_count": 4,
   "metadata": {},
   "outputs": [],
   "source": [
    "def add_prediction_date(file_name, TT='train/'):\n",
    "    '''given a patient's visit records, this function returns the prediction_date '''\n",
    "    '''and whether this patient has a death record (1) or not(0)'''\n",
    "    '''output is a reduced visit file'''\n",
    "    visit = pd.read_csv(ROOT+TT+'visit_occurrence.csv')\n",
    "    cols = ['person_id','visit_start_date']\n",
    "    visit = visit[cols]\n",
    "    death = pd.read_csv(ROOT+TT+'death.csv')\n",
    "    cols = ['person_id','death_date']\n",
    "    death = death[cols]\n",
    "    visit_death = pd.merge(death,visit,on=['person_id'],how='inner')\n",
    "    visit_death['death_date'] = pd.to_datetime(visit_death['death_date'], format='%Y-%m-%d')\n",
    "    visit_death['visit_start_date'] = pd.to_datetime(visit_death['visit_start_date'], format='%Y-%m-%d')\n",
    "    visit_death['last_visit_death'] = visit_death['death_date'] - visit_death['visit_start_date']\n",
    "    visit_death['last_visit_death'] = visit_death['last_visit_death'].apply(lambda x: x.days)\n",
    "    visit_death = visit_death.loc[visit_death['last_visit_death'] <= 180]\n",
    "    visit_death.drop_duplicates(subset=['person_id'], keep = 'first',inplace = True)\n",
    "    visit_death = visit_death[['person_id','visit_start_date']]\n",
    "    visit_death.columns = ['person_id','prediction_date']\n",
    "    visit_death['death'] = np.ones(visit_death.shape[0])\n",
    "    visit_live = visit[~visit.person_id.isin(visit_death.person_id)]\n",
    "    visit_live = visit_live[['person_id','visit_start_date']]\n",
    "    '''\n",
    "    for patients in the negative case, select patients' latest visit record\n",
    "    '''\n",
    "    visit_live = visit_live.sort_values(['person_id','visit_start_date'],ascending=False).groupby('person_id').head(1)\n",
    "    visit_live = visit_live[['person_id','visit_start_date']]\n",
    "    visit_live.columns = [\"person_id\", \"prediction_date\"]\n",
    "    visit_live['death'] = np.zeros(visit_live.shape[0])\n",
    "    prediction_date = pd.concat([visit_death,visit_live],axis=0)\n",
    "    prediction_date.to_csv(file_name[0:-4] + '_prediction_date.csv',index=False)\n",
    "    print(\"last visit date selected\", flush = True)\n",
    "    return prediction_date"
   ]
  },
  {
   "cell_type": "code",
   "execution_count": 5,
   "metadata": {},
   "outputs": [],
   "source": [
    "def add_demographic_data(file_name, prediction_date, TT='train/'):\n",
    "    '''add demographic data including age, gender and race'''\n",
    "    person = pd.read_csv(ROOT+TT+'person.csv')\n",
    "    prediction_date = pd.read_csv(file_name)\n",
    "    cols = ['person_id','gender_concept_id','year_of_birth','race_concept_id']\n",
    "    person = person[cols]\n",
    "    person_prediction_date = pd.merge(prediction_date,person,on=['person_id'], how='left')\n",
    "    person_prediction_date['prediction_date'] = person_prediction_date['prediction_date'].astype('datetime64[ns]')\n",
    "    person_prediction_date = person_prediction_date.dropna(subset=['year_of_birth'])\n",
    "    person_prediction_date['year_of_birth'] = person_prediction_date['year_of_birth'].astype('datetime64[ns]')\n",
    "    person_prediction_date['age'] = person_prediction_date['prediction_date'] - person_prediction_date['year_of_birth']\n",
    "    person_prediction_date['age'] = person_prediction_date['age'].apply(lambda x: x.days/365.25)\n",
    "    print(\"patients' ages are calculated\", flush = True)\n",
    "    person[\"count\"] = 1\n",
    "    gender = person.pivot(index = \"person_id\", columns=\"gender_concept_id\", values=\"count\")\n",
    "    gender.reset_index(inplace = True)\n",
    "    gender.fillna(0,inplace = True)\n",
    "    race = person.pivot(index =\"person_id\", columns=\"race_concept_id\", values=\"count\")\n",
    "    race.reset_index(inplace = True)\n",
    "    race.fillna(0,inplace = True)\n",
    "    race = race[['person_id', 8516, 8515, 8527, 8557, 8657]]\n",
    "    gender = gender[['person_id',8532]]\n",
    "    print(\"patients' gender and race information are added\", flush = True)\n",
    "    scaler = MinMaxScaler(feature_range = (0, 1), copy = True)\n",
    "    scaled_column = scaler.fit_transform(person_prediction_date[['age']])\n",
    "    person_prediction_date = pd.concat([person_prediction_date, pd.DataFrame(scaled_column,columns = ['scaled_age'])],axis=1)\n",
    "    mortality_predictors = person_prediction_date[['death','person_id','scaled_age']]\n",
    "    mortality_predictors = mortality_predictors.merge(gender, on = ['person_id'], how = 'left')\n",
    "    mortality_predictors = mortality_predictors.merge(race, on = ['person_id'], how = 'left')\n",
    "    mortality_predictors.fillna(0,inplace = True)\n",
    "    mortality_predictors.to_csv(file_name[0:-4] + '_plus_demographic_data.csv',index = False)\n",
    "    return mortality_predictors"
   ]
  },
  {
   "cell_type": "markdown",
   "metadata": {},
   "source": [
    "## Training"
   ]
  },
  {
   "cell_type": "code",
   "execution_count": 6,
   "metadata": {},
   "outputs": [
    {
     "name": "stdout",
     "output_type": "stream",
     "text": [
      "last visit date selected\n",
      "patients' ages are calculated\n",
      "patients' gender and race information are added\n"
     ]
    }
   ],
   "source": [
    "prediction_date = add_prediction_date(ROOT + SCRATCH + FILE_STR + '.csv')\n",
    "mortality_predictors = add_demographic_data(ROOT + SCRATCH + FILE_STR + '_prediction_date.csv', prediction_date)"
   ]
  },
  {
   "cell_type": "code",
   "execution_count": 7,
   "metadata": {},
   "outputs": [
    {
     "name": "stdout",
     "output_type": "stream",
     "text": [
      "Training stage finished\n"
     ]
    }
   ],
   "source": [
    "train_file = ROOT + SCRATCH + FILE_STR + '_prediction_date_plus_demographic_data.csv'\n",
    "data = pd.read_csv(train_file,low_memory = False).dropna(axis = 0,how = 'any')\n",
    "X = data.drop(['death','person_id'], axis = 1)\n",
    "features = X.columns.values\n",
    "Y = data[['death']]\n",
    "X = np.array(X)\n",
    "Y = np.array(data[['death']]).ravel()\n",
    "clf = LogisticRegressionCV(cv = 3, penalty = 'l2', tol = 0.0001, fit_intercept = True, intercept_scaling = 1, class_weight = None, random_state = None,\n",
    "max_iter = 100, verbose = 0, n_jobs = None).fit(X,Y)\n",
    "dump(clf, ROOT+'/model/baseline.joblib')\n",
    "print(\"Training stage finished\", flush = True)"
   ]
  },
  {
   "cell_type": "code",
   "execution_count": 8,
   "metadata": {},
   "outputs": [
    {
     "data": {
      "text/plain": [
       "0.5376115626956577"
      ]
     },
     "execution_count": 8,
     "metadata": {},
     "output_type": "execute_result"
    }
   ],
   "source": [
    "from sklearn.metrics import roc_auc_score\n",
    "from sklearn.metrics import auc\n",
    "from sklearn.metrics import plot_roc_curve\n",
    "\n",
    "y_scores = clf.predict_proba(X)[:,1]\n",
    "roc_auc_score(Y, y_scores)"
   ]
  },
  {
   "cell_type": "code",
   "execution_count": 9,
   "metadata": {},
   "outputs": [
    {
     "data": {
      "image/png": "[encoded data removed]",
      "text/plain": [
       "<Figure size 432x288 with 1 Axes>"
      ]
     },
     "metadata": {
      "needs_background": "light"
     },
     "output_type": "display_data"
    }
   ],
   "source": [
    "#from https://scikit-learn.org/stable/auto_examples/model_selection/plot_roc_crossval.html#sphx-glr-auto-examples-model-selection-plot-roc-crossval-py\n",
    "\n",
    "fig, ax = plt.subplots()\n",
    "plot_roc_curve(clf, X, Y, ax=ax)\n",
    "ax.plot([0, 1], [0, 1], linestyle='--', lw=2, color='r',\n",
    "        label='Chance', alpha=.8)\n",
    "\n",
    "ax.set(xlim=[-0.05, 1.05], ylim=[-0.05, 1.05],\n",
    "       title=\"AUC\")\n",
    "ax.legend(loc=\"lower right\")\n",
    "plt.show()"
   ]
  },
  {
   "cell_type": "code",
   "execution_count": 10,
   "metadata": {},
   "outputs": [
    {
     "name": "stdout",
     "output_type": "stream",
     "text": [
      "PRAUC =  0.005933768728605587\n"
     ]
    }
   ],
   "source": [
    "# https://stats.stackexchange.com/questions/157012/area-under-precision-recall-curve-auc-of-pr-curve-and-average-precision-ap\n",
    "# https://github.com/scikit-learn/scikit-learn/issues/5992\n",
    "\n",
    "from sklearn.metrics import precision_recall_curve\n",
    "from sklearn.metrics import plot_precision_recall_curve\n",
    "from sklearn.metrics import average_precision_score\n",
    "average_precision = average_precision_score(Y, y_scores)\n",
    "print('PRAUC = ', average_precision)"
   ]
  },
  {
   "cell_type": "code",
   "execution_count": 11,
   "metadata": {},
   "outputs": [
    {
     "data": {
      "image/png": "[encoded data removed]",
      "text/plain": [
       "<Figure size 432x288 with 1 Axes>"
      ]
     },
     "metadata": {
      "needs_background": "light"
     },
     "output_type": "display_data"
    }
   ],
   "source": [
    "precision, recall, thresholds = precision_recall_curve(Y, clf.predict(X))\n",
    "\n",
    "disp = plot_precision_recall_curve(clf, X, Y)\n",
    "disp.ax_.set_title('2-class Precision-Recall curve: '\n",
    "                   'AP={0:0.2f}'.format(average_precision))\n",
    "disp.ax_.legend(loc=\"upper right\")\n",
    "plt.show()"
   ]
  },
  {
   "cell_type": "markdown",
   "metadata": {},
   "source": [
    "## Testing"
   ]
  },
  {
   "cell_type": "code",
   "execution_count": 12,
   "metadata": {},
   "outputs": [],
   "source": [
    "TT = 'infer/'   # Train or Test folder\n",
    "FILE_STR = 'test'"
   ]
  },
  {
   "cell_type": "code",
   "execution_count": 17,
   "metadata": {},
   "outputs": [
    {
     "name": "stdout",
     "output_type": "stream",
     "text": [
      "last visit date selected\n",
      "patients' ages are calculated\n",
      "patients' gender and race information are added\n"
     ]
    }
   ],
   "source": [
    "test_prediction_date = add_prediction_date(ROOT + SCRATCH + FILE_STR + '.csv', TT=TT)\n",
    "test_mortality_predictors = add_demographic_data(ROOT + SCRATCH + FILE_STR + '_prediction_date.csv', prediction_date, TT=TT)"
   ]
  },
  {
   "cell_type": "code",
   "execution_count": 18,
   "metadata": {},
   "outputs": [],
   "source": [
    "test_file = ROOT + SCRATCH + FILE_STR + '_prediction_date_plus_demographic_data.csv'\n",
    "data = pd.read_csv(test_file,low_memory = False).dropna(axis = 0,how = 'any')\n",
    "X = data.drop(['death','person_id'], axis = 1)\n",
    "features = X.columns.values\n",
    "Y = data[['death']]\n",
    "X = np.array(X)\n",
    "Y = np.array(data[['death']]).ravel()"
   ]
  },
  {
   "cell_type": "code",
   "execution_count": 19,
   "metadata": {},
   "outputs": [
    {
     "data": {
      "text/plain": [
       "'../mortality_prediction_docker_model/v2/scratch/test_prediction_date_plus_demographic_data.csv'"
      ]
     },
     "execution_count": 19,
     "metadata": {},
     "output_type": "execute_result"
    }
   ],
   "source": [
    "test_file"
   ]
  },
  {
   "cell_type": "code",
   "execution_count": 20,
   "metadata": {},
   "outputs": [
    {
     "data": {
      "text/plain": [
       "0.5153416150753387"
      ]
     },
     "execution_count": 20,
     "metadata": {},
     "output_type": "execute_result"
    }
   ],
   "source": [
    "y_scores = clf.predict_proba(X)[:,1]\n",
    "roc_auc_score(Y, y_scores)"
   ]
  },
  {
   "cell_type": "code",
   "execution_count": 21,
   "metadata": {},
   "outputs": [
    {
     "data": {
      "image/png": "[encoded data removed]",
      "text/plain": [
       "<Figure size 432x288 with 1 Axes>"
      ]
     },
     "metadata": {
      "needs_background": "light"
     },
     "output_type": "display_data"
    }
   ],
   "source": [
    "fig, ax = plt.subplots()\n",
    "plot_roc_curve(clf, X, Y, ax=ax)\n",
    "ax.plot([0, 1], [0, 1], linestyle='--', lw=2, color='r',\n",
    "        label='Chance', alpha=.8)\n",
    "\n",
    "ax.set(xlim=[-0.05, 1.05], ylim=[-0.05, 1.05],\n",
    "       title=\"AUC\")\n",
    "ax.legend(loc=\"lower right\")\n",
    "plt.show()"
   ]
  },
  {
   "cell_type": "code",
   "execution_count": 22,
   "metadata": {},
   "outputs": [
    {
     "name": "stdout",
     "output_type": "stream",
     "text": [
      "PRAUC =  0.0051444888739596755\n"
     ]
    }
   ],
   "source": [
    "average_precision = average_precision_score(Y, y_scores)\n",
    "print('PRAUC = ', average_precision)"
   ]
  },
  {
   "cell_type": "code",
   "execution_count": 23,
   "metadata": {},
   "outputs": [
    {
     "data": {
      "image/png": "[encoded data removed]",
      "text/plain": [
       "<Figure size 432x288 with 1 Axes>"
      ]
     },
     "metadata": {
      "needs_background": "light"
     },
     "output_type": "display_data"
    }
   ],
   "source": [
    "precision, recall, thresholds = precision_recall_curve(Y, clf.predict(X))\n",
    "\n",
    "disp = plot_precision_recall_curve(clf, X, Y)\n",
    "disp.ax_.set_title('2-class Precision-Recall curve: '\n",
    "                   'AP={0:0.2f}'.format(average_precision))\n",
    "disp.ax_.legend(loc=\"upper right\")\n",
    "plt.show()"
   ]
  },
  {
   "cell_type": "code",
   "execution_count": null,
   "metadata": {},
   "outputs": [],
   "source": []
  }
 ],
 "metadata": {
  "kernelspec": {
   "display_name": "Python 3",
   "language": "python",
   "name": "python3"
  },
  "language_info": {
   "codemirror_mode": {
    "name": "ipython",
    "version": 3
   },
   "file_extension": ".py",
   "mimetype": "text/x-python",
   "name": "python",
   "nbconvert_exporter": "python",
   "pygments_lexer": "ipython3",
   "version": "3.7.3"
  }
 },
 "nbformat": 4,
 "nbformat_minor": 4
}
