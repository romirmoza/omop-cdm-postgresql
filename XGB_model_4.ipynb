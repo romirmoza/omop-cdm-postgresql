{
 "cells": [
  {
   "cell_type": "markdown",
   "metadata": {},
   "source": [
    "#  XGB Model"
   ]
  },
  {
   "cell_type": "code",
   "execution_count": 1,
   "metadata": {},
   "outputs": [],
   "source": [
    "import datetime\n",
    "import numpy as np\n",
    "import pandas as pd\n",
    "from datetime import datetime\n",
    "import matplotlib as mpl\n",
    "import matplotlib.pyplot as plt\n",
    "import sklearn\n",
    "\n",
    "'''for saving models'''\n",
    "from joblib import dump, load"
   ]
  },
  {
   "cell_type": "code",
   "execution_count": 95,
   "metadata": {},
   "outputs": [
    {
     "name": "stdout",
     "output_type": "stream",
     "text": [
      "2020-02-11 17:40:01.753899\n",
      "OS: Linux\n",
      "Python: 3.7.4 (default, Aug 13 2019, 20:35:49) \n",
      "[GCC 7.3.0]\n",
      "matplotlib: 3.1.1\n",
      "numpy: 1.17.2\n",
      "pandas: 0.25.1\n",
      "sklearn: 0.21.3\n"
     ]
    }
   ],
   "source": [
    "# MANIFEST - list of versions on board \n",
    "import sys\n",
    "import os\n",
    "print(pd.datetime.now())\n",
    "print('OS: '+os.uname().sysname)\n",
    "print('Python: '+sys.version)\n",
    "print('matplotlib: '+mpl.__version__)\n",
    "print('numpy: '+np.__version__)\n",
    "print('pandas: '+pd.__version__)\n",
    "print('sklearn: '+sklearn.__version__)"
   ]
  },
  {
   "cell_type": "code",
   "execution_count": 3,
   "metadata": {},
   "outputs": [
    {
     "name": "stdout",
     "output_type": "stream",
     "text": [
      "xgboost: 0.90\n"
     ]
    }
   ],
   "source": [
    "import xgboost as xgb\n",
    "print('xgboost: '+xgb.__version__)"
   ]
  },
  {
   "cell_type": "code",
   "execution_count": 4,
   "metadata": {},
   "outputs": [
    {
     "name": "stdout",
     "output_type": "stream",
     "text": [
      "01:00.0 VGA compatible controller: NVIDIA Corporation GP102 [GeForce GTX 1080 Ti] (rev a1) (prog-if 00 [VGA controller])\n"
     ]
    }
   ],
   "source": [
    "# https://askubuntu.com/questions/5417/how-to-get-the-gpu-info\n",
    "# might want to conditinally set the 'tree_method' parameter to xbgoost based on the return to this call\n",
    "! lspci  -v -s  $(lspci | grep ' VGA ' | cut -d\" \" -f 1) | grep 'controller'"
   ]
  },
  {
   "cell_type": "code",
   "execution_count": 5,
   "metadata": {},
   "outputs": [],
   "source": [
    "def xgb_progressbar(rounds=1000):\n",
    "    \"\"\"Progressbar for xgboost using tqdm library.\n",
    "    https://programtalk.com/python-examples/tqdm/\n",
    "    example: model = xgb.train(params, X_train, 1000, callbacks=[xgb_progressbar(100), ])\n",
    "    \"\"\"\n",
    "    from tqdm.auto import tqdm\n",
    "    pbar = tqdm(total=rounds)\n",
    "\n",
    "    def callback(_, ):\n",
    "        pbar.update(1)\n",
    "\n",
    "    return callback"
   ]
  },
  {
   "cell_type": "markdown",
   "metadata": {},
   "source": [
    "## Data Prep"
   ]
  },
  {
   "cell_type": "code",
   "execution_count": 6,
   "metadata": {},
   "outputs": [
    {
     "data": {
      "text/plain": [
       "(278998, 234)"
      ]
     },
     "execution_count": 6,
     "metadata": {},
     "output_type": "execute_result"
    }
   ],
   "source": [
    "FOLDER = '../mortality_prediction_docker_model/v2/scratch/'\n",
    "train_file = FOLDER+'train_all.csv'\n",
    "train = pd.read_csv(train_file,low_memory = False)\n",
    "train.shape"
   ]
  },
  {
   "cell_type": "code",
   "execution_count": 7,
   "metadata": {},
   "outputs": [
    {
     "data": {
      "text/html": [
       "<div>\n",
       "<style scoped>\n",
       "    .dataframe tbody tr th:only-of-type {\n",
       "        vertical-align: middle;\n",
       "    }\n",
       "\n",
       "    .dataframe tbody tr th {\n",
       "        vertical-align: top;\n",
       "    }\n",
       "\n",
       "    .dataframe thead th {\n",
       "        text-align: right;\n",
       "    }\n",
       "</style>\n",
       "<table border=\"1\" class=\"dataframe\">\n",
       "  <thead>\n",
       "    <tr style=\"text-align: right;\">\n",
       "      <th></th>\n",
       "      <th>person_id</th>\n",
       "      <th>days_since_latest_visit</th>\n",
       "      <th>ethnicity_concept_id</th>\n",
       "      <th>race_concept_id</th>\n",
       "      <th>gender_concept_id</th>\n",
       "      <th>race_concept_name</th>\n",
       "      <th>number_of_visits</th>\n",
       "      <th>visit_concept_name</th>\n",
       "      <th>visit_duration</th>\n",
       "      <th>death_in_next_window</th>\n",
       "      <th>...</th>\n",
       "      <th>procedure_concept_2314215</th>\n",
       "      <th>drug_concept_19033627</th>\n",
       "      <th>procedure_concept_2313850</th>\n",
       "      <th>procedure_concept_2109792</th>\n",
       "      <th>procedure_concept_2003939</th>\n",
       "      <th>condition_concept_81723</th>\n",
       "      <th>procedure_concept_2110916</th>\n",
       "      <th>procedure_concept_2314207</th>\n",
       "      <th>procedure_concept_2003789</th>\n",
       "      <th>observation_concept_40757059</th>\n",
       "    </tr>\n",
       "  </thead>\n",
       "  <tbody>\n",
       "    <tr>\n",
       "      <td>0</td>\n",
       "      <td>0</td>\n",
       "      <td>45</td>\n",
       "      <td>NaN</td>\n",
       "      <td>8552.0</td>\n",
       "      <td>8507</td>\n",
       "      <td>Unknown</td>\n",
       "      <td>4</td>\n",
       "      <td>0</td>\n",
       "      <td>0</td>\n",
       "      <td>0</td>\n",
       "      <td>...</td>\n",
       "      <td>NaN</td>\n",
       "      <td>NaN</td>\n",
       "      <td>NaN</td>\n",
       "      <td>NaN</td>\n",
       "      <td>NaN</td>\n",
       "      <td>NaN</td>\n",
       "      <td>NaN</td>\n",
       "      <td>NaN</td>\n",
       "      <td>NaN</td>\n",
       "      <td>NaN</td>\n",
       "    </tr>\n",
       "    <tr>\n",
       "      <td>1</td>\n",
       "      <td>5</td>\n",
       "      <td>31</td>\n",
       "      <td>NaN</td>\n",
       "      <td>8557.0</td>\n",
       "      <td>8507</td>\n",
       "      <td>Native Hawaiian or Other Pacific Islander</td>\n",
       "      <td>1</td>\n",
       "      <td>1</td>\n",
       "      <td>0</td>\n",
       "      <td>0</td>\n",
       "      <td>...</td>\n",
       "      <td>NaN</td>\n",
       "      <td>NaN</td>\n",
       "      <td>NaN</td>\n",
       "      <td>NaN</td>\n",
       "      <td>NaN</td>\n",
       "      <td>NaN</td>\n",
       "      <td>NaN</td>\n",
       "      <td>NaN</td>\n",
       "      <td>NaN</td>\n",
       "      <td>NaN</td>\n",
       "    </tr>\n",
       "    <tr>\n",
       "      <td>2</td>\n",
       "      <td>6</td>\n",
       "      <td>103</td>\n",
       "      <td>NaN</td>\n",
       "      <td>8527.0</td>\n",
       "      <td>8532</td>\n",
       "      <td>White</td>\n",
       "      <td>3</td>\n",
       "      <td>0</td>\n",
       "      <td>0</td>\n",
       "      <td>0</td>\n",
       "      <td>...</td>\n",
       "      <td>NaN</td>\n",
       "      <td>NaN</td>\n",
       "      <td>NaN</td>\n",
       "      <td>NaN</td>\n",
       "      <td>NaN</td>\n",
       "      <td>NaN</td>\n",
       "      <td>NaN</td>\n",
       "      <td>NaN</td>\n",
       "      <td>NaN</td>\n",
       "      <td>NaN</td>\n",
       "    </tr>\n",
       "    <tr>\n",
       "      <td>3</td>\n",
       "      <td>10</td>\n",
       "      <td>84</td>\n",
       "      <td>38003564.0</td>\n",
       "      <td>8552.0</td>\n",
       "      <td>8532</td>\n",
       "      <td>Unknown</td>\n",
       "      <td>1</td>\n",
       "      <td>0</td>\n",
       "      <td>0</td>\n",
       "      <td>0</td>\n",
       "      <td>...</td>\n",
       "      <td>NaN</td>\n",
       "      <td>NaN</td>\n",
       "      <td>NaN</td>\n",
       "      <td>NaN</td>\n",
       "      <td>NaN</td>\n",
       "      <td>NaN</td>\n",
       "      <td>NaN</td>\n",
       "      <td>NaN</td>\n",
       "      <td>NaN</td>\n",
       "      <td>NaN</td>\n",
       "    </tr>\n",
       "    <tr>\n",
       "      <td>4</td>\n",
       "      <td>12</td>\n",
       "      <td>2</td>\n",
       "      <td>NaN</td>\n",
       "      <td>8516.0</td>\n",
       "      <td>8532</td>\n",
       "      <td>Black or African American</td>\n",
       "      <td>2</td>\n",
       "      <td>0</td>\n",
       "      <td>0</td>\n",
       "      <td>0</td>\n",
       "      <td>...</td>\n",
       "      <td>NaN</td>\n",
       "      <td>NaN</td>\n",
       "      <td>NaN</td>\n",
       "      <td>NaN</td>\n",
       "      <td>NaN</td>\n",
       "      <td>NaN</td>\n",
       "      <td>NaN</td>\n",
       "      <td>NaN</td>\n",
       "      <td>NaN</td>\n",
       "      <td>NaN</td>\n",
       "    </tr>\n",
       "  </tbody>\n",
       "</table>\n",
       "<p>5 rows × 234 columns</p>\n",
       "</div>"
      ],
      "text/plain": [
       "   person_id  days_since_latest_visit  ethnicity_concept_id  race_concept_id  \\\n",
       "0          0                       45                   NaN           8552.0   \n",
       "1          5                       31                   NaN           8557.0   \n",
       "2          6                      103                   NaN           8527.0   \n",
       "3         10                       84            38003564.0           8552.0   \n",
       "4         12                        2                   NaN           8516.0   \n",
       "\n",
       "   gender_concept_id                          race_concept_name  \\\n",
       "0               8507                                    Unknown   \n",
       "1               8507  Native Hawaiian or Other Pacific Islander   \n",
       "2               8532                                      White   \n",
       "3               8532                                    Unknown   \n",
       "4               8532                  Black or African American   \n",
       "\n",
       "   number_of_visits  visit_concept_name  visit_duration  death_in_next_window  \\\n",
       "0                 4                   0               0                     0   \n",
       "1                 1                   1               0                     0   \n",
       "2                 3                   0               0                     0   \n",
       "3                 1                   0               0                     0   \n",
       "4                 2                   0               0                     0   \n",
       "\n",
       "   ...  procedure_concept_2314215  drug_concept_19033627  \\\n",
       "0  ...                        NaN                    NaN   \n",
       "1  ...                        NaN                    NaN   \n",
       "2  ...                        NaN                    NaN   \n",
       "3  ...                        NaN                    NaN   \n",
       "4  ...                        NaN                    NaN   \n",
       "\n",
       "   procedure_concept_2313850  procedure_concept_2109792  \\\n",
       "0                        NaN                        NaN   \n",
       "1                        NaN                        NaN   \n",
       "2                        NaN                        NaN   \n",
       "3                        NaN                        NaN   \n",
       "4                        NaN                        NaN   \n",
       "\n",
       "   procedure_concept_2003939  condition_concept_81723  \\\n",
       "0                        NaN                      NaN   \n",
       "1                        NaN                      NaN   \n",
       "2                        NaN                      NaN   \n",
       "3                        NaN                      NaN   \n",
       "4                        NaN                      NaN   \n",
       "\n",
       "   procedure_concept_2110916  procedure_concept_2314207  \\\n",
       "0                        NaN                        NaN   \n",
       "1                        NaN                        NaN   \n",
       "2                        NaN                        NaN   \n",
       "3                        NaN                        NaN   \n",
       "4                        NaN                        NaN   \n",
       "\n",
       "   procedure_concept_2003789  observation_concept_40757059  \n",
       "0                        NaN                           NaN  \n",
       "1                        NaN                           NaN  \n",
       "2                        NaN                           NaN  \n",
       "3                        NaN                           NaN  \n",
       "4                        NaN                           NaN  \n",
       "\n",
       "[5 rows x 234 columns]"
      ]
     },
     "execution_count": 7,
     "metadata": {},
     "output_type": "execute_result"
    }
   ],
   "source": [
    "train.head()"
   ]
  },
  {
   "cell_type": "code",
   "execution_count": 9,
   "metadata": {},
   "outputs": [
    {
     "data": {
      "text/html": [
       "<div>\n",
       "<style scoped>\n",
       "    .dataframe tbody tr th:only-of-type {\n",
       "        vertical-align: middle;\n",
       "    }\n",
       "\n",
       "    .dataframe tbody tr th {\n",
       "        vertical-align: top;\n",
       "    }\n",
       "\n",
       "    .dataframe thead th {\n",
       "        text-align: right;\n",
       "    }\n",
       "</style>\n",
       "<table border=\"1\" class=\"dataframe\">\n",
       "  <thead>\n",
       "    <tr style=\"text-align: right;\">\n",
       "      <th></th>\n",
       "      <th>concept_id</th>\n",
       "      <th>column</th>\n",
       "    </tr>\n",
       "  </thead>\n",
       "  <tbody>\n",
       "    <tr>\n",
       "      <td>20</td>\n",
       "      <td>0</td>\n",
       "      <td>days_since_latest_observation</td>\n",
       "    </tr>\n",
       "    <tr>\n",
       "      <td>21</td>\n",
       "      <td>38000269</td>\n",
       "      <td>procedure_type_38000269</td>\n",
       "    </tr>\n",
       "    <tr>\n",
       "      <td>22</td>\n",
       "      <td>4214956</td>\n",
       "      <td>observation_concept_4214956</td>\n",
       "    </tr>\n",
       "    <tr>\n",
       "      <td>23</td>\n",
       "      <td>38000282</td>\n",
       "      <td>observation_type_38000282</td>\n",
       "    </tr>\n",
       "    <tr>\n",
       "      <td>24</td>\n",
       "      <td>2002291</td>\n",
       "      <td>procedure_concept_2002291</td>\n",
       "    </tr>\n",
       "  </tbody>\n",
       "</table>\n",
       "</div>"
      ],
      "text/plain": [
       "    concept_id                         column\n",
       "20           0  days_since_latest_observation\n",
       "21    38000269        procedure_type_38000269\n",
       "22     4214956    observation_concept_4214956\n",
       "23    38000282      observation_type_38000282\n",
       "24     2002291      procedure_concept_2002291"
      ]
     },
     "execution_count": 9,
     "metadata": {},
     "output_type": "execute_result"
    }
   ],
   "source": [
    "cols = pd.DataFrame([[c.split('_')[-1] for c in train.columns],train.columns]).T\n",
    "cols.columns =['concept_id','column']\n",
    "cols.concept_id[0:21] = 0 # the first are strings\n",
    "cols.concept_id = cols.concept_id.astype(int)\n",
    "cols.iloc[20:25]"
   ]
  },
  {
   "cell_type": "code",
   "execution_count": 10,
   "metadata": {},
   "outputs": [
    {
     "data": {
      "text/html": [
       "<div>\n",
       "<style scoped>\n",
       "    .dataframe tbody tr th:only-of-type {\n",
       "        vertical-align: middle;\n",
       "    }\n",
       "\n",
       "    .dataframe tbody tr th {\n",
       "        vertical-align: top;\n",
       "    }\n",
       "\n",
       "    .dataframe thead th {\n",
       "        text-align: right;\n",
       "    }\n",
       "</style>\n",
       "<table border=\"1\" class=\"dataframe\">\n",
       "  <thead>\n",
       "    <tr style=\"text-align: right;\">\n",
       "      <th></th>\n",
       "      <th>concept_id</th>\n",
       "      <th>concept_name</th>\n",
       "      <th>vocabulary_id</th>\n",
       "      <th>table</th>\n",
       "    </tr>\n",
       "  </thead>\n",
       "  <tbody>\n",
       "    <tr>\n",
       "      <td>0</td>\n",
       "      <td>3000453</td>\n",
       "      <td>Epstein Barr virus DNA [#/volume] (viral load)...</td>\n",
       "      <td>LOINC</td>\n",
       "      <td>measurement</td>\n",
       "    </tr>\n",
       "    <tr>\n",
       "      <td>1</td>\n",
       "      <td>3000515</td>\n",
       "      <td>Antithrombin actual/normal in Platelet poor pl...</td>\n",
       "      <td>LOINC</td>\n",
       "      <td>measurement</td>\n",
       "    </tr>\n",
       "    <tr>\n",
       "      <td>2</td>\n",
       "      <td>3000722</td>\n",
       "      <td>Carnitine free (C0) [Moles/volume] in Serum or...</td>\n",
       "      <td>LOINC</td>\n",
       "      <td>measurement</td>\n",
       "    </tr>\n",
       "    <tr>\n",
       "      <td>3</td>\n",
       "      <td>3001405</td>\n",
       "      <td>CD3+CD8+ (T8 suppressor cells) cells [#/volume...</td>\n",
       "      <td>LOINC</td>\n",
       "      <td>measurement</td>\n",
       "    </tr>\n",
       "    <tr>\n",
       "      <td>4</td>\n",
       "      <td>3001599</td>\n",
       "      <td>Carotene [Mass/volume] in Serum</td>\n",
       "      <td>LOINC</td>\n",
       "      <td>measurement</td>\n",
       "    </tr>\n",
       "  </tbody>\n",
       "</table>\n",
       "</div>"
      ],
      "text/plain": [
       "   concept_id                                       concept_name  \\\n",
       "0     3000453  Epstein Barr virus DNA [#/volume] (viral load)...   \n",
       "1     3000515  Antithrombin actual/normal in Platelet poor pl...   \n",
       "2     3000722  Carnitine free (C0) [Moles/volume] in Serum or...   \n",
       "3     3001405  CD3+CD8+ (T8 suppressor cells) cells [#/volume...   \n",
       "4     3001599                    Carotene [Mass/volume] in Serum   \n",
       "\n",
       "  vocabulary_id        table  \n",
       "0         LOINC  measurement  \n",
       "1         LOINC  measurement  \n",
       "2         LOINC  measurement  \n",
       "3         LOINC  measurement  \n",
       "4         LOINC  measurement  "
      ]
     },
     "execution_count": 10,
     "metadata": {},
     "output_type": "execute_result"
    }
   ],
   "source": [
    "all_concepts = pd.read_csv('v2/app/concept_codes_final/all_concepts.csv')\n",
    "all_concepts.head()"
   ]
  },
  {
   "cell_type": "code",
   "execution_count": 11,
   "metadata": {},
   "outputs": [
    {
     "data": {
      "text/html": [
       "<div>\n",
       "<style scoped>\n",
       "    .dataframe tbody tr th:only-of-type {\n",
       "        vertical-align: middle;\n",
       "    }\n",
       "\n",
       "    .dataframe tbody tr th {\n",
       "        vertical-align: top;\n",
       "    }\n",
       "\n",
       "    .dataframe thead th {\n",
       "        text-align: right;\n",
       "    }\n",
       "</style>\n",
       "<table border=\"1\" class=\"dataframe\">\n",
       "  <thead>\n",
       "    <tr style=\"text-align: right;\">\n",
       "      <th></th>\n",
       "      <th>column</th>\n",
       "      <th>concept_name</th>\n",
       "      <th>vocabulary_id</th>\n",
       "      <th>table</th>\n",
       "    </tr>\n",
       "    <tr>\n",
       "      <th>concept_id</th>\n",
       "      <th></th>\n",
       "      <th></th>\n",
       "      <th></th>\n",
       "      <th></th>\n",
       "    </tr>\n",
       "  </thead>\n",
       "  <tbody>\n",
       "    <tr>\n",
       "      <td>0</td>\n",
       "      <td>person_id</td>\n",
       "      <td>NaN</td>\n",
       "      <td>NaN</td>\n",
       "      <td>NaN</td>\n",
       "    </tr>\n",
       "    <tr>\n",
       "      <td>0</td>\n",
       "      <td>days_since_latest_visit</td>\n",
       "      <td>NaN</td>\n",
       "      <td>NaN</td>\n",
       "      <td>NaN</td>\n",
       "    </tr>\n",
       "    <tr>\n",
       "      <td>0</td>\n",
       "      <td>ethnicity_concept_id</td>\n",
       "      <td>NaN</td>\n",
       "      <td>NaN</td>\n",
       "      <td>NaN</td>\n",
       "    </tr>\n",
       "    <tr>\n",
       "      <td>0</td>\n",
       "      <td>race_concept_id</td>\n",
       "      <td>NaN</td>\n",
       "      <td>NaN</td>\n",
       "      <td>NaN</td>\n",
       "    </tr>\n",
       "    <tr>\n",
       "      <td>0</td>\n",
       "      <td>gender_concept_id</td>\n",
       "      <td>NaN</td>\n",
       "      <td>NaN</td>\n",
       "      <td>NaN</td>\n",
       "    </tr>\n",
       "  </tbody>\n",
       "</table>\n",
       "</div>"
      ],
      "text/plain": [
       "                             column concept_name vocabulary_id table\n",
       "concept_id                                                          \n",
       "0                         person_id          NaN           NaN   NaN\n",
       "0           days_since_latest_visit          NaN           NaN   NaN\n",
       "0              ethnicity_concept_id          NaN           NaN   NaN\n",
       "0                   race_concept_id          NaN           NaN   NaN\n",
       "0                 gender_concept_id          NaN           NaN   NaN"
      ]
     },
     "execution_count": 11,
     "metadata": {},
     "output_type": "execute_result"
    }
   ],
   "source": [
    "col_concepts = cols.set_index('concept_id').join(all_concepts.set_index('concept_id'), how='left')\n",
    "col_concepts.head()"
   ]
  },
  {
   "cell_type": "code",
   "execution_count": 12,
   "metadata": {},
   "outputs": [
    {
     "data": {
      "text/html": [
       "<div>\n",
       "<style scoped>\n",
       "    .dataframe tbody tr th:only-of-type {\n",
       "        vertical-align: middle;\n",
       "    }\n",
       "\n",
       "    .dataframe tbody tr th {\n",
       "        vertical-align: top;\n",
       "    }\n",
       "\n",
       "    .dataframe thead th {\n",
       "        text-align: right;\n",
       "    }\n",
       "</style>\n",
       "<table border=\"1\" class=\"dataframe\">\n",
       "  <thead>\n",
       "    <tr style=\"text-align: right;\">\n",
       "      <th></th>\n",
       "      <th>column</th>\n",
       "      <th>concept_name</th>\n",
       "      <th>vocabulary_id</th>\n",
       "      <th>table</th>\n",
       "    </tr>\n",
       "    <tr>\n",
       "      <th>concept_id</th>\n",
       "      <th></th>\n",
       "      <th></th>\n",
       "      <th></th>\n",
       "      <th></th>\n",
       "    </tr>\n",
       "  </thead>\n",
       "  <tbody>\n",
       "    <tr>\n",
       "      <td>40483287</td>\n",
       "      <td>condition_concept_40483287</td>\n",
       "      <td>Disorder of kidney and/or ureter</td>\n",
       "      <td>SNOMED</td>\n",
       "      <td>condition_occurrence</td>\n",
       "    </tr>\n",
       "    <tr>\n",
       "      <td>40757059</td>\n",
       "      <td>observation_concept_40757059</td>\n",
       "      <td>NaN</td>\n",
       "      <td>NaN</td>\n",
       "      <td>NaN</td>\n",
       "    </tr>\n",
       "    <tr>\n",
       "      <td>43011909</td>\n",
       "      <td>drug_concept_43011909</td>\n",
       "      <td>NaN</td>\n",
       "      <td>NaN</td>\n",
       "      <td>NaN</td>\n",
       "    </tr>\n",
       "    <tr>\n",
       "      <td>43021378</td>\n",
       "      <td>observation_concept_43021378</td>\n",
       "      <td>Suspected infectious disease</td>\n",
       "      <td>SNOMED</td>\n",
       "      <td>observation</td>\n",
       "    </tr>\n",
       "    <tr>\n",
       "      <td>43531028</td>\n",
       "      <td>condition_concept_43531028</td>\n",
       "      <td>Mononeuropathy of lower limb</td>\n",
       "      <td>SNOMED</td>\n",
       "      <td>condition_occurrence</td>\n",
       "    </tr>\n",
       "  </tbody>\n",
       "</table>\n",
       "</div>"
      ],
      "text/plain": [
       "                                  column                      concept_name  \\\n",
       "concept_id                                                                   \n",
       "40483287      condition_concept_40483287  Disorder of kidney and/or ureter   \n",
       "40757059    observation_concept_40757059                               NaN   \n",
       "43011909           drug_concept_43011909                               NaN   \n",
       "43021378    observation_concept_43021378      Suspected infectious disease   \n",
       "43531028      condition_concept_43531028      Mononeuropathy of lower limb   \n",
       "\n",
       "           vocabulary_id                 table  \n",
       "concept_id                                      \n",
       "40483287          SNOMED  condition_occurrence  \n",
       "40757059             NaN                   NaN  \n",
       "43011909             NaN                   NaN  \n",
       "43021378          SNOMED           observation  \n",
       "43531028          SNOMED  condition_occurrence  "
      ]
     },
     "execution_count": 12,
     "metadata": {},
     "output_type": "execute_result"
    }
   ],
   "source": [
    "col_concepts.tail()"
   ]
  },
  {
   "cell_type": "code",
   "execution_count": 13,
   "metadata": {},
   "outputs": [
    {
     "data": {
      "text/plain": [
       "53.0"
      ]
     },
     "execution_count": 13,
     "metadata": {},
     "output_type": "execute_result"
    }
   ],
   "source": [
    "# What % oc concept_id's don't have a corresponding concept code?\n",
    "round(col_concepts.isnull().sum().table / col_concepts.shape[0], 2)*100"
   ]
  },
  {
   "cell_type": "code",
   "execution_count": 14,
   "metadata": {},
   "outputs": [
    {
     "data": {
      "text/html": [
       "<div>\n",
       "<style scoped>\n",
       "    .dataframe tbody tr th:only-of-type {\n",
       "        vertical-align: middle;\n",
       "    }\n",
       "\n",
       "    .dataframe tbody tr th {\n",
       "        vertical-align: top;\n",
       "    }\n",
       "\n",
       "    .dataframe thead th {\n",
       "        text-align: right;\n",
       "    }\n",
       "</style>\n",
       "<table border=\"1\" class=\"dataframe\">\n",
       "  <thead>\n",
       "    <tr style=\"text-align: right;\">\n",
       "      <th></th>\n",
       "      <th>concept_id</th>\n",
       "      <th>concept_name</th>\n",
       "      <th>vocabulary_id</th>\n",
       "      <th>table</th>\n",
       "    </tr>\n",
       "  </thead>\n",
       "  <tbody>\n",
       "  </tbody>\n",
       "</table>\n",
       "</div>"
      ],
      "text/plain": [
       "Empty DataFrame\n",
       "Columns: [concept_id, concept_name, vocabulary_id, table]\n",
       "Index: []"
      ]
     },
     "execution_count": 14,
     "metadata": {},
     "output_type": "execute_result"
    }
   ],
   "source": [
    "all_concepts[all_concepts.concept_id == 38000200]"
   ]
  },
  {
   "cell_type": "code",
   "execution_count": 15,
   "metadata": {},
   "outputs": [
    {
     "name": "stdout",
     "output_type": "stream",
     "text": [
      "Memory usage is 498.09 MB\n"
     ]
    }
   ],
   "source": [
    "start_mem = train.memory_usage().sum() / 1024**2\n",
    "print('Memory usage is {:.2f} MB'.format(start_mem))"
   ]
  },
  {
   "cell_type": "code",
   "execution_count": 16,
   "metadata": {},
   "outputs": [],
   "source": [
    "def cols_toint(df):\n",
    "    df = df.fillna(0)\n",
    "    df.old = df.old.astype(int)\n",
    "    for c in df.columns[df.columns.str.startswith('days')]:\n",
    "        df[c] = df[c].astype(int)\n",
    "    return df"
   ]
  },
  {
   "cell_type": "code",
   "execution_count": 17,
   "metadata": {},
   "outputs": [],
   "source": [
    "train = cols_toint(train)"
   ]
  },
  {
   "cell_type": "code",
   "execution_count": 18,
   "metadata": {},
   "outputs": [],
   "source": [
    "def reduce_mem_usage(df):\n",
    "    '''https://www.mikulskibartosz.name/how-to-reduce-memory-usage-in-pandas/'''\n",
    "    start_mem = df.memory_usage().sum() / 1024**2\n",
    "    print('Memory usage of dataframe is {:.2f} MB'.format(start_mem))\n",
    "\n",
    "    for col in df.columns:\n",
    "        col_type = df[col].dtype\n",
    "        if col_type != object and col_type :\n",
    "                c_min = df[col].min()\n",
    "                c_max = df[col].max()\n",
    "                c_unique = len(df[col].unique())\n",
    "\n",
    "                if str(col_type)[:3] == 'int':\n",
    "                    if c_min > np.iinfo(np.int8).min and c_max < np.iinfo(np.int8).max:\n",
    "                        df[col] = df[col].astype(np.int8)\n",
    "                    elif c_min > np.iinfo(np.uint8).min and c_max < np.iinfo(np.uint8).max:\n",
    "                        df[col] = df[col].astype(np.uint8)\n",
    "                    elif c_min > np.iinfo(np.int16).min and c_max < np.iinfo(np.int16).max:\n",
    "                        df[col] = df[col].astype(np.int16)\n",
    "                    elif c_min > np.iinfo(np.uint16).min and c_max < np.iinfo(np.uint16).max:\n",
    "                        df[col] = df[col].astype(np.uint16)\n",
    "                    elif c_min > np.iinfo(np.int32).min and c_max < np.iinfo(np.int32).max:\n",
    "                        df[col] = df[col].astype(np.int32)\n",
    "                    elif c_min > np.iinfo(np.uint32).min and c_max < np.iinfo(np.uint32).max:\n",
    "                        df[col] = df[col].astype(np.uint32)                    \n",
    "                    elif c_min > np.iinfo(np.int64).min and c_max < np.iinfo(np.int64).max:\n",
    "                        df[col] = df[col].astype(np.int64)\n",
    "                    elif c_min > np.iinfo(np.uint64).min and c_max < np.iinfo(np.uint64).max:\n",
    "                        df[col] = df[col].astype(np.uint64)\n",
    "                else:\n",
    "                    if c_min > np.finfo(np.float16).min and c_max < np.finfo(np.float16).max:\n",
    "                        df[col] = df[col].astype(np.float16)\n",
    "                    elif c_min > np.finfo(np.float32).min and c_max < np.finfo(np.float32).max:\n",
    "                        df[col] = df[col].astype(np.float32)\n",
    "                    else:\n",
    "                        df[col] = df[col].astype(np.float64)\n",
    "\n",
    "                if c_min == 0.0 and c_max == 1.0 and c_unique == 2:\n",
    "                    df[col] = df[col].astype(bool)\n",
    "                    pass\n",
    "                \n",
    "#                 if 2 > c_unique and c_unique < 21: # convert to categorical - needs more work\n",
    "#                     df[col] = pd.Categorical(df[col])\n",
    "\n",
    "\n",
    "    end_mem = df.memory_usage().sum() / 1024**2\n",
    "    print('Memory usage after optimization is: {:.2f} MB'.format(end_mem))\n",
    "    print('Decreased by {:.1f}%'.format(100 * (start_mem - end_mem) / start_mem))\n",
    "    return df"
   ]
  },
  {
   "cell_type": "code",
   "execution_count": 19,
   "metadata": {},
   "outputs": [
    {
     "name": "stdout",
     "output_type": "stream",
     "text": [
      "Memory usage of dataframe is 498.09 MB\n",
      "Memory usage after optimization is: 68.91 MB\n",
      "Decreased by 86.2%\n"
     ]
    }
   ],
   "source": [
    "train = reduce_mem_usage(train)"
   ]
  },
  {
   "cell_type": "code",
   "execution_count": 20,
   "metadata": {},
   "outputs": [
    {
     "data": {
      "text/html": [
       "<div>\n",
       "<style scoped>\n",
       "    .dataframe tbody tr th:only-of-type {\n",
       "        vertical-align: middle;\n",
       "    }\n",
       "\n",
       "    .dataframe tbody tr th {\n",
       "        vertical-align: top;\n",
       "    }\n",
       "\n",
       "    .dataframe thead th {\n",
       "        text-align: right;\n",
       "    }\n",
       "</style>\n",
       "<table border=\"1\" class=\"dataframe\">\n",
       "  <thead>\n",
       "    <tr style=\"text-align: right;\">\n",
       "      <th></th>\n",
       "      <th>person_id</th>\n",
       "      <th>days_since_latest_visit</th>\n",
       "      <th>ethnicity_concept_id</th>\n",
       "      <th>race_concept_id</th>\n",
       "      <th>gender_concept_id</th>\n",
       "      <th>race_concept_name</th>\n",
       "      <th>number_of_visits</th>\n",
       "      <th>visit_concept_name</th>\n",
       "      <th>visit_duration</th>\n",
       "      <th>death_in_next_window</th>\n",
       "      <th>...</th>\n",
       "      <th>procedure_concept_2314215</th>\n",
       "      <th>drug_concept_19033627</th>\n",
       "      <th>procedure_concept_2313850</th>\n",
       "      <th>procedure_concept_2109792</th>\n",
       "      <th>procedure_concept_2003939</th>\n",
       "      <th>condition_concept_81723</th>\n",
       "      <th>procedure_concept_2110916</th>\n",
       "      <th>procedure_concept_2314207</th>\n",
       "      <th>procedure_concept_2003789</th>\n",
       "      <th>observation_concept_40757059</th>\n",
       "    </tr>\n",
       "  </thead>\n",
       "  <tbody>\n",
       "    <tr>\n",
       "      <td>0</td>\n",
       "      <td>0</td>\n",
       "      <td>45</td>\n",
       "      <td>0.0</td>\n",
       "      <td>8552.0</td>\n",
       "      <td>8507</td>\n",
       "      <td>Unknown</td>\n",
       "      <td>4</td>\n",
       "      <td>0</td>\n",
       "      <td>0</td>\n",
       "      <td>False</td>\n",
       "      <td>...</td>\n",
       "      <td>False</td>\n",
       "      <td>False</td>\n",
       "      <td>False</td>\n",
       "      <td>False</td>\n",
       "      <td>False</td>\n",
       "      <td>False</td>\n",
       "      <td>False</td>\n",
       "      <td>False</td>\n",
       "      <td>False</td>\n",
       "      <td>False</td>\n",
       "    </tr>\n",
       "    <tr>\n",
       "      <td>1</td>\n",
       "      <td>5</td>\n",
       "      <td>31</td>\n",
       "      <td>0.0</td>\n",
       "      <td>8560.0</td>\n",
       "      <td>8507</td>\n",
       "      <td>Native Hawaiian or Other Pacific Islander</td>\n",
       "      <td>1</td>\n",
       "      <td>1</td>\n",
       "      <td>0</td>\n",
       "      <td>False</td>\n",
       "      <td>...</td>\n",
       "      <td>False</td>\n",
       "      <td>False</td>\n",
       "      <td>False</td>\n",
       "      <td>False</td>\n",
       "      <td>False</td>\n",
       "      <td>False</td>\n",
       "      <td>False</td>\n",
       "      <td>False</td>\n",
       "      <td>False</td>\n",
       "      <td>False</td>\n",
       "    </tr>\n",
       "    <tr>\n",
       "      <td>2</td>\n",
       "      <td>6</td>\n",
       "      <td>103</td>\n",
       "      <td>0.0</td>\n",
       "      <td>8528.0</td>\n",
       "      <td>8532</td>\n",
       "      <td>White</td>\n",
       "      <td>3</td>\n",
       "      <td>0</td>\n",
       "      <td>0</td>\n",
       "      <td>False</td>\n",
       "      <td>...</td>\n",
       "      <td>False</td>\n",
       "      <td>False</td>\n",
       "      <td>False</td>\n",
       "      <td>False</td>\n",
       "      <td>False</td>\n",
       "      <td>False</td>\n",
       "      <td>False</td>\n",
       "      <td>False</td>\n",
       "      <td>False</td>\n",
       "      <td>False</td>\n",
       "    </tr>\n",
       "    <tr>\n",
       "      <td>3</td>\n",
       "      <td>10</td>\n",
       "      <td>84</td>\n",
       "      <td>38003564.0</td>\n",
       "      <td>8552.0</td>\n",
       "      <td>8532</td>\n",
       "      <td>Unknown</td>\n",
       "      <td>1</td>\n",
       "      <td>0</td>\n",
       "      <td>0</td>\n",
       "      <td>False</td>\n",
       "      <td>...</td>\n",
       "      <td>False</td>\n",
       "      <td>False</td>\n",
       "      <td>False</td>\n",
       "      <td>False</td>\n",
       "      <td>False</td>\n",
       "      <td>False</td>\n",
       "      <td>False</td>\n",
       "      <td>False</td>\n",
       "      <td>False</td>\n",
       "      <td>False</td>\n",
       "    </tr>\n",
       "    <tr>\n",
       "      <td>4</td>\n",
       "      <td>12</td>\n",
       "      <td>2</td>\n",
       "      <td>0.0</td>\n",
       "      <td>8512.0</td>\n",
       "      <td>8532</td>\n",
       "      <td>Black or African American</td>\n",
       "      <td>2</td>\n",
       "      <td>0</td>\n",
       "      <td>0</td>\n",
       "      <td>False</td>\n",
       "      <td>...</td>\n",
       "      <td>False</td>\n",
       "      <td>False</td>\n",
       "      <td>False</td>\n",
       "      <td>False</td>\n",
       "      <td>False</td>\n",
       "      <td>False</td>\n",
       "      <td>False</td>\n",
       "      <td>False</td>\n",
       "      <td>False</td>\n",
       "      <td>False</td>\n",
       "    </tr>\n",
       "  </tbody>\n",
       "</table>\n",
       "<p>5 rows × 234 columns</p>\n",
       "</div>"
      ],
      "text/plain": [
       "   person_id  days_since_latest_visit  ethnicity_concept_id  race_concept_id  \\\n",
       "0          0                       45                   0.0           8552.0   \n",
       "1          5                       31                   0.0           8560.0   \n",
       "2          6                      103                   0.0           8528.0   \n",
       "3         10                       84            38003564.0           8552.0   \n",
       "4         12                        2                   0.0           8512.0   \n",
       "\n",
       "   gender_concept_id                          race_concept_name  \\\n",
       "0               8507                                    Unknown   \n",
       "1               8507  Native Hawaiian or Other Pacific Islander   \n",
       "2               8532                                      White   \n",
       "3               8532                                    Unknown   \n",
       "4               8532                  Black or African American   \n",
       "\n",
       "   number_of_visits  visit_concept_name  visit_duration  death_in_next_window  \\\n",
       "0                 4                   0               0                 False   \n",
       "1                 1                   1               0                 False   \n",
       "2                 3                   0               0                 False   \n",
       "3                 1                   0               0                 False   \n",
       "4                 2                   0               0                 False   \n",
       "\n",
       "   ...  procedure_concept_2314215  drug_concept_19033627  \\\n",
       "0  ...                      False                  False   \n",
       "1  ...                      False                  False   \n",
       "2  ...                      False                  False   \n",
       "3  ...                      False                  False   \n",
       "4  ...                      False                  False   \n",
       "\n",
       "   procedure_concept_2313850  procedure_concept_2109792  \\\n",
       "0                      False                      False   \n",
       "1                      False                      False   \n",
       "2                      False                      False   \n",
       "3                      False                      False   \n",
       "4                      False                      False   \n",
       "\n",
       "   procedure_concept_2003939  condition_concept_81723  \\\n",
       "0                      False                    False   \n",
       "1                      False                    False   \n",
       "2                      False                    False   \n",
       "3                      False                    False   \n",
       "4                      False                    False   \n",
       "\n",
       "   procedure_concept_2110916  procedure_concept_2314207  \\\n",
       "0                      False                      False   \n",
       "1                      False                      False   \n",
       "2                      False                      False   \n",
       "3                      False                      False   \n",
       "4                      False                      False   \n",
       "\n",
       "   procedure_concept_2003789  observation_concept_40757059  \n",
       "0                      False                         False  \n",
       "1                      False                         False  \n",
       "2                      False                         False  \n",
       "3                      False                         False  \n",
       "4                      False                         False  \n",
       "\n",
       "[5 rows x 234 columns]"
      ]
     },
     "execution_count": 20,
     "metadata": {},
     "output_type": "execute_result"
    }
   ],
   "source": [
    "train.head()"
   ]
  },
  {
   "cell_type": "code",
   "execution_count": 21,
   "metadata": {},
   "outputs": [
    {
     "name": "stderr",
     "output_type": "stream",
     "text": [
      "100%|██████████| 3/3 [00:00<00:00, 1058.45it/s]\n"
     ]
    },
    {
     "data": {
      "text/plain": [
       "TestResults(failed=0, attempted=1)"
      ]
     },
     "execution_count": 21,
     "metadata": {},
     "output_type": "execute_result"
    }
   ],
   "source": [
    "def find_dup_cols(df_in):\n",
    "    '''\n",
    "    Find duplicate columns:\n",
    "    >>> df = pd.DataFrame([[1,1,4], [2,2,5], [3,3,6]], columns=['a','b','c']); find_dup_cols(df)\n",
    "    ['b', 'c']\n",
    "    '''\n",
    "    from tqdm import tqdm\n",
    "\n",
    "    df = df_in.copy(deep=True)\n",
    "    i = 1\n",
    "    dupes = []\n",
    "    for c in tqdm(df.columns):\n",
    "        if c not in df.columns: # a column could have been deleted\n",
    "            pass\n",
    "        for d in df.columns[i:]: # for every subsequent column\n",
    "            if len(pd.Series(list(zip(df[c], df[d]))).unique()) == len(df[c].unique()) == len(df[d].unique()):\n",
    "                dupes += d\n",
    "                df = df.drop(d, axis=1)\n",
    "        i += 1\n",
    "    return dupes\n",
    "\n",
    "from doctest import testmod\n",
    "testmod(name='find_dup_cols')"
   ]
  },
  {
   "cell_type": "code",
   "execution_count": 22,
   "metadata": {},
   "outputs": [],
   "source": [
    "# %%time\n",
    "# # expensive, don't do this if you don't have time\n",
    "# find_dup_cols(train)"
   ]
  },
  {
   "cell_type": "code",
   "execution_count": 23,
   "metadata": {},
   "outputs": [],
   "source": [
    "from sklearn.preprocessing import LabelEncoder\n",
    "label_encoder = LabelEncoder()\n",
    "train.race_concept_name = train.race_concept_name.replace(to_replace=0, value='Unknown')\n",
    "train.race_concept_name = train.race_concept_name.fillna('Unknown')\n",
    "label_encoder = label_encoder.fit(train.race_concept_name)\n",
    "train.race_concept_name = label_encoder.transform(train.race_concept_name)"
   ]
  },
  {
   "cell_type": "code",
   "execution_count": 24,
   "metadata": {},
   "outputs": [
    {
     "data": {
      "text/html": [
       "<div>\n",
       "<style scoped>\n",
       "    .dataframe tbody tr th:only-of-type {\n",
       "        vertical-align: middle;\n",
       "    }\n",
       "\n",
       "    .dataframe tbody tr th {\n",
       "        vertical-align: top;\n",
       "    }\n",
       "\n",
       "    .dataframe thead th {\n",
       "        text-align: right;\n",
       "    }\n",
       "</style>\n",
       "<table border=\"1\" class=\"dataframe\">\n",
       "  <thead>\n",
       "    <tr style=\"text-align: right;\">\n",
       "      <th></th>\n",
       "      <th>count</th>\n",
       "      <th>unique</th>\n",
       "      <th>top</th>\n",
       "      <th>freq</th>\n",
       "      <th>mean</th>\n",
       "      <th>std</th>\n",
       "      <th>min</th>\n",
       "      <th>25%</th>\n",
       "      <th>50%</th>\n",
       "      <th>75%</th>\n",
       "      <th>max</th>\n",
       "    </tr>\n",
       "  </thead>\n",
       "  <tbody>\n",
       "    <tr>\n",
       "      <td>person_id</td>\n",
       "      <td>278998.0</td>\n",
       "      <td></td>\n",
       "      <td></td>\n",
       "      <td></td>\n",
       "      <td>75818.2</td>\n",
       "      <td>43668.1</td>\n",
       "      <td>0</td>\n",
       "      <td>38065</td>\n",
       "      <td>75703</td>\n",
       "      <td>113636</td>\n",
       "      <td>151684</td>\n",
       "    </tr>\n",
       "    <tr>\n",
       "      <td>days_since_latest_visit</td>\n",
       "      <td>278998.0</td>\n",
       "      <td></td>\n",
       "      <td></td>\n",
       "      <td></td>\n",
       "      <td>63.4859</td>\n",
       "      <td>51.9673</td>\n",
       "      <td>1</td>\n",
       "      <td>18</td>\n",
       "      <td>50</td>\n",
       "      <td>100</td>\n",
       "      <td>180</td>\n",
       "    </tr>\n",
       "    <tr>\n",
       "      <td>ethnicity_concept_id</td>\n",
       "      <td>278998.0</td>\n",
       "      <td></td>\n",
       "      <td></td>\n",
       "      <td></td>\n",
       "      <td>2.12587e+07</td>\n",
       "      <td>1.88731e+07</td>\n",
       "      <td>0</td>\n",
       "      <td>0</td>\n",
       "      <td>3.80036e+07</td>\n",
       "      <td>3.80036e+07</td>\n",
       "      <td>3.80036e+07</td>\n",
       "    </tr>\n",
       "    <tr>\n",
       "      <td>race_concept_id</td>\n",
       "      <td>278998.0</td>\n",
       "      <td></td>\n",
       "      <td></td>\n",
       "      <td></td>\n",
       "      <td></td>\n",
       "      <td></td>\n",
       "      <td>0</td>\n",
       "      <td>8512</td>\n",
       "      <td>8528</td>\n",
       "      <td>8560</td>\n",
       "      <td>8656</td>\n",
       "    </tr>\n",
       "    <tr>\n",
       "      <td>gender_concept_id</td>\n",
       "      <td>278998.0</td>\n",
       "      <td></td>\n",
       "      <td></td>\n",
       "      <td></td>\n",
       "      <td>8521.07</td>\n",
       "      <td>12.4016</td>\n",
       "      <td>8507</td>\n",
       "      <td>8507</td>\n",
       "      <td>8532</td>\n",
       "      <td>8532</td>\n",
       "      <td>8532</td>\n",
       "    </tr>\n",
       "    <tr>\n",
       "      <td>...</td>\n",
       "      <td>...</td>\n",
       "      <td>...</td>\n",
       "      <td>...</td>\n",
       "      <td>...</td>\n",
       "      <td>...</td>\n",
       "      <td>...</td>\n",
       "      <td>...</td>\n",
       "      <td>...</td>\n",
       "      <td>...</td>\n",
       "      <td>...</td>\n",
       "      <td>...</td>\n",
       "    </tr>\n",
       "    <tr>\n",
       "      <td>condition_concept_81723</td>\n",
       "      <td>278998.0</td>\n",
       "      <td>2</td>\n",
       "      <td>False</td>\n",
       "      <td>278893</td>\n",
       "      <td></td>\n",
       "      <td></td>\n",
       "      <td></td>\n",
       "      <td></td>\n",
       "      <td></td>\n",
       "      <td></td>\n",
       "      <td></td>\n",
       "    </tr>\n",
       "    <tr>\n",
       "      <td>procedure_concept_2110916</td>\n",
       "      <td>278998.0</td>\n",
       "      <td>2</td>\n",
       "      <td>False</td>\n",
       "      <td>278957</td>\n",
       "      <td></td>\n",
       "      <td></td>\n",
       "      <td></td>\n",
       "      <td></td>\n",
       "      <td></td>\n",
       "      <td></td>\n",
       "      <td></td>\n",
       "    </tr>\n",
       "    <tr>\n",
       "      <td>procedure_concept_2314207</td>\n",
       "      <td>278998.0</td>\n",
       "      <td>2</td>\n",
       "      <td>False</td>\n",
       "      <td>278048</td>\n",
       "      <td></td>\n",
       "      <td></td>\n",
       "      <td></td>\n",
       "      <td></td>\n",
       "      <td></td>\n",
       "      <td></td>\n",
       "      <td></td>\n",
       "    </tr>\n",
       "    <tr>\n",
       "      <td>procedure_concept_2003789</td>\n",
       "      <td>278998.0</td>\n",
       "      <td>2</td>\n",
       "      <td>False</td>\n",
       "      <td>278967</td>\n",
       "      <td></td>\n",
       "      <td></td>\n",
       "      <td></td>\n",
       "      <td></td>\n",
       "      <td></td>\n",
       "      <td></td>\n",
       "      <td></td>\n",
       "    </tr>\n",
       "    <tr>\n",
       "      <td>observation_concept_40757059</td>\n",
       "      <td>278998.0</td>\n",
       "      <td>2</td>\n",
       "      <td>False</td>\n",
       "      <td>278633</td>\n",
       "      <td></td>\n",
       "      <td></td>\n",
       "      <td></td>\n",
       "      <td></td>\n",
       "      <td></td>\n",
       "      <td></td>\n",
       "      <td></td>\n",
       "    </tr>\n",
       "  </tbody>\n",
       "</table>\n",
       "<p>234 rows × 11 columns</p>\n",
       "</div>"
      ],
      "text/plain": [
       "                                 count unique    top    freq         mean  \\\n",
       "person_id                     278998.0                            75818.2   \n",
       "days_since_latest_visit       278998.0                            63.4859   \n",
       "ethnicity_concept_id          278998.0                        2.12587e+07   \n",
       "race_concept_id               278998.0                                      \n",
       "gender_concept_id             278998.0                            8521.07   \n",
       "...                                ...    ...    ...     ...          ...   \n",
       "condition_concept_81723       278998.0      2  False  278893                \n",
       "procedure_concept_2110916     278998.0      2  False  278957                \n",
       "procedure_concept_2314207     278998.0      2  False  278048                \n",
       "procedure_concept_2003789     278998.0      2  False  278967                \n",
       "observation_concept_40757059  278998.0      2  False  278633                \n",
       "\n",
       "                                      std   min    25%          50%  \\\n",
       "person_id                         43668.1     0  38065        75703   \n",
       "days_since_latest_visit           51.9673     1     18           50   \n",
       "ethnicity_concept_id          1.88731e+07     0      0  3.80036e+07   \n",
       "race_concept_id                               0   8512         8528   \n",
       "gender_concept_id                 12.4016  8507   8507         8532   \n",
       "...                                   ...   ...    ...          ...   \n",
       "condition_concept_81723                                               \n",
       "procedure_concept_2110916                                             \n",
       "procedure_concept_2314207                                             \n",
       "procedure_concept_2003789                                             \n",
       "observation_concept_40757059                                          \n",
       "\n",
       "                                      75%          max  \n",
       "person_id                          113636       151684  \n",
       "days_since_latest_visit               100          180  \n",
       "ethnicity_concept_id          3.80036e+07  3.80036e+07  \n",
       "race_concept_id                      8560         8656  \n",
       "gender_concept_id                    8532         8532  \n",
       "...                                   ...          ...  \n",
       "condition_concept_81723                                 \n",
       "procedure_concept_2110916                               \n",
       "procedure_concept_2314207                               \n",
       "procedure_concept_2003789                               \n",
       "observation_concept_40757059                            \n",
       "\n",
       "[234 rows x 11 columns]"
      ]
     },
     "execution_count": 24,
     "metadata": {},
     "output_type": "execute_result"
    }
   ],
   "source": [
    "train.describe(include='all').T.fillna('')"
   ]
  },
  {
   "cell_type": "code",
   "execution_count": 25,
   "metadata": {},
   "outputs": [
    {
     "data": {
      "text/html": [
       "<div>\n",
       "<style scoped>\n",
       "    .dataframe tbody tr th:only-of-type {\n",
       "        vertical-align: middle;\n",
       "    }\n",
       "\n",
       "    .dataframe tbody tr th {\n",
       "        vertical-align: top;\n",
       "    }\n",
       "\n",
       "    .dataframe thead th {\n",
       "        text-align: right;\n",
       "    }\n",
       "</style>\n",
       "<table border=\"1\" class=\"dataframe\">\n",
       "  <thead>\n",
       "    <tr style=\"text-align: right;\">\n",
       "      <th></th>\n",
       "      <th>count</th>\n",
       "      <th>mean</th>\n",
       "      <th>std</th>\n",
       "      <th>min</th>\n",
       "      <th>25%</th>\n",
       "      <th>50%</th>\n",
       "      <th>75%</th>\n",
       "      <th>max</th>\n",
       "    </tr>\n",
       "  </thead>\n",
       "  <tbody>\n",
       "    <tr>\n",
       "      <td>person_id</td>\n",
       "      <td>278998.0</td>\n",
       "      <td>7.581821e+04</td>\n",
       "      <td>4.366814e+04</td>\n",
       "      <td>0.0</td>\n",
       "      <td>38065.0</td>\n",
       "      <td>75703.0</td>\n",
       "      <td>113636.0</td>\n",
       "      <td>151684.0</td>\n",
       "    </tr>\n",
       "    <tr>\n",
       "      <td>days_since_latest_visit</td>\n",
       "      <td>278998.0</td>\n",
       "      <td>6.348594e+01</td>\n",
       "      <td>5.196734e+01</td>\n",
       "      <td>1.0</td>\n",
       "      <td>18.0</td>\n",
       "      <td>50.0</td>\n",
       "      <td>100.0</td>\n",
       "      <td>180.0</td>\n",
       "    </tr>\n",
       "    <tr>\n",
       "      <td>ethnicity_concept_id</td>\n",
       "      <td>278998.0</td>\n",
       "      <td>2.125874e+07</td>\n",
       "      <td>1.887310e+07</td>\n",
       "      <td>0.0</td>\n",
       "      <td>0.0</td>\n",
       "      <td>38003564.0</td>\n",
       "      <td>38003564.0</td>\n",
       "      <td>38003564.0</td>\n",
       "    </tr>\n",
       "    <tr>\n",
       "      <td>race_concept_id</td>\n",
       "      <td>278998.0</td>\n",
       "      <td>NaN</td>\n",
       "      <td>NaN</td>\n",
       "      <td>0.0</td>\n",
       "      <td>8512.0</td>\n",
       "      <td>8528.0</td>\n",
       "      <td>8560.0</td>\n",
       "      <td>8656.0</td>\n",
       "    </tr>\n",
       "    <tr>\n",
       "      <td>gender_concept_id</td>\n",
       "      <td>278998.0</td>\n",
       "      <td>8.521065e+03</td>\n",
       "      <td>1.240165e+01</td>\n",
       "      <td>8507.0</td>\n",
       "      <td>8507.0</td>\n",
       "      <td>8532.0</td>\n",
       "      <td>8532.0</td>\n",
       "      <td>8532.0</td>\n",
       "    </tr>\n",
       "    <tr>\n",
       "      <td>race_concept_name</td>\n",
       "      <td>278998.0</td>\n",
       "      <td>2.705618e+00</td>\n",
       "      <td>1.667634e+00</td>\n",
       "      <td>0.0</td>\n",
       "      <td>1.0</td>\n",
       "      <td>3.0</td>\n",
       "      <td>4.0</td>\n",
       "      <td>5.0</td>\n",
       "    </tr>\n",
       "    <tr>\n",
       "      <td>number_of_visits</td>\n",
       "      <td>278998.0</td>\n",
       "      <td>3.973584e+00</td>\n",
       "      <td>9.905619e+00</td>\n",
       "      <td>1.0</td>\n",
       "      <td>1.0</td>\n",
       "      <td>2.0</td>\n",
       "      <td>3.0</td>\n",
       "      <td>465.0</td>\n",
       "    </tr>\n",
       "    <tr>\n",
       "      <td>visit_concept_name</td>\n",
       "      <td>278998.0</td>\n",
       "      <td>6.089649e-01</td>\n",
       "      <td>1.694314e+00</td>\n",
       "      <td>0.0</td>\n",
       "      <td>0.0</td>\n",
       "      <td>0.0</td>\n",
       "      <td>1.0</td>\n",
       "      <td>65.0</td>\n",
       "    </tr>\n",
       "    <tr>\n",
       "      <td>visit_duration</td>\n",
       "      <td>278998.0</td>\n",
       "      <td>6.954709e-01</td>\n",
       "      <td>3.339940e+00</td>\n",
       "      <td>0.0</td>\n",
       "      <td>0.0</td>\n",
       "      <td>0.0</td>\n",
       "      <td>0.0</td>\n",
       "      <td>138.0</td>\n",
       "    </tr>\n",
       "    <tr>\n",
       "      <td>old</td>\n",
       "      <td>278998.0</td>\n",
       "      <td>7.205466e+01</td>\n",
       "      <td>1.259637e+01</td>\n",
       "      <td>0.0</td>\n",
       "      <td>67.0</td>\n",
       "      <td>73.0</td>\n",
       "      <td>80.0</td>\n",
       "      <td>101.0</td>\n",
       "    </tr>\n",
       "    <tr>\n",
       "      <td>inpatient_visit_count</td>\n",
       "      <td>278998.0</td>\n",
       "      <td>4.829784e-02</td>\n",
       "      <td>2.485396e-01</td>\n",
       "      <td>0.0</td>\n",
       "      <td>0.0</td>\n",
       "      <td>0.0</td>\n",
       "      <td>0.0</td>\n",
       "      <td>9.0</td>\n",
       "    </tr>\n",
       "    <tr>\n",
       "      <td>outpatient_visit_count</td>\n",
       "      <td>278998.0</td>\n",
       "      <td>5.606671e-01</td>\n",
       "      <td>1.575432e+00</td>\n",
       "      <td>0.0</td>\n",
       "      <td>0.0</td>\n",
       "      <td>0.0</td>\n",
       "      <td>1.0</td>\n",
       "      <td>61.0</td>\n",
       "    </tr>\n",
       "    <tr>\n",
       "      <td>er_visit_count</td>\n",
       "      <td>278998.0</td>\n",
       "      <td>0.000000e+00</td>\n",
       "      <td>0.000000e+00</td>\n",
       "      <td>0.0</td>\n",
       "      <td>0.0</td>\n",
       "      <td>0.0</td>\n",
       "      <td>0.0</td>\n",
       "      <td>0.0</td>\n",
       "    </tr>\n",
       "    <tr>\n",
       "      <td>window_id</td>\n",
       "      <td>278998.0</td>\n",
       "      <td>2.125599e+00</td>\n",
       "      <td>1.426421e+00</td>\n",
       "      <td>0.0</td>\n",
       "      <td>1.0</td>\n",
       "      <td>2.0</td>\n",
       "      <td>3.0</td>\n",
       "      <td>5.0</td>\n",
       "    </tr>\n",
       "    <tr>\n",
       "      <td>days_since_latest_condition</td>\n",
       "      <td>278998.0</td>\n",
       "      <td>2.262889e+01</td>\n",
       "      <td>4.097739e+01</td>\n",
       "      <td>0.0</td>\n",
       "      <td>0.0</td>\n",
       "      <td>0.0</td>\n",
       "      <td>27.0</td>\n",
       "      <td>180.0</td>\n",
       "    </tr>\n",
       "    <tr>\n",
       "      <td>condition_status_concept_id</td>\n",
       "      <td>278998.0</td>\n",
       "      <td>4.223741e+05</td>\n",
       "      <td>1.266892e+06</td>\n",
       "      <td>0.0</td>\n",
       "      <td>0.0</td>\n",
       "      <td>0.0</td>\n",
       "      <td>0.0</td>\n",
       "      <td>4230359.0</td>\n",
       "    </tr>\n",
       "    <tr>\n",
       "      <td>days_since_latest_procedure</td>\n",
       "      <td>278998.0</td>\n",
       "      <td>1.720725e+01</td>\n",
       "      <td>3.428229e+01</td>\n",
       "      <td>0.0</td>\n",
       "      <td>0.0</td>\n",
       "      <td>1.0</td>\n",
       "      <td>16.0</td>\n",
       "      <td>180.0</td>\n",
       "    </tr>\n",
       "    <tr>\n",
       "      <td>days_since_latest_drug_exposure</td>\n",
       "      <td>278998.0</td>\n",
       "      <td>2.180283e+01</td>\n",
       "      <td>4.246558e+01</td>\n",
       "      <td>0.0</td>\n",
       "      <td>0.0</td>\n",
       "      <td>0.0</td>\n",
       "      <td>21.0</td>\n",
       "      <td>180.0</td>\n",
       "    </tr>\n",
       "    <tr>\n",
       "      <td>total_quantity_of_drugs</td>\n",
       "      <td>278998.0</td>\n",
       "      <td>NaN</td>\n",
       "      <td>NaN</td>\n",
       "      <td>0.0</td>\n",
       "      <td>0.0</td>\n",
       "      <td>0.0</td>\n",
       "      <td>0.0</td>\n",
       "      <td>960.0</td>\n",
       "    </tr>\n",
       "    <tr>\n",
       "      <td>days_since_latest_observation</td>\n",
       "      <td>278998.0</td>\n",
       "      <td>1.549834e+01</td>\n",
       "      <td>3.418465e+01</td>\n",
       "      <td>0.0</td>\n",
       "      <td>0.0</td>\n",
       "      <td>0.0</td>\n",
       "      <td>11.0</td>\n",
       "      <td>180.0</td>\n",
       "    </tr>\n",
       "  </tbody>\n",
       "</table>\n",
       "</div>"
      ],
      "text/plain": [
       "                                    count          mean           std     min  \\\n",
       "person_id                        278998.0  7.581821e+04  4.366814e+04     0.0   \n",
       "days_since_latest_visit          278998.0  6.348594e+01  5.196734e+01     1.0   \n",
       "ethnicity_concept_id             278998.0  2.125874e+07  1.887310e+07     0.0   \n",
       "race_concept_id                  278998.0           NaN           NaN     0.0   \n",
       "gender_concept_id                278998.0  8.521065e+03  1.240165e+01  8507.0   \n",
       "race_concept_name                278998.0  2.705618e+00  1.667634e+00     0.0   \n",
       "number_of_visits                 278998.0  3.973584e+00  9.905619e+00     1.0   \n",
       "visit_concept_name               278998.0  6.089649e-01  1.694314e+00     0.0   \n",
       "visit_duration                   278998.0  6.954709e-01  3.339940e+00     0.0   \n",
       "old                              278998.0  7.205466e+01  1.259637e+01     0.0   \n",
       "inpatient_visit_count            278998.0  4.829784e-02  2.485396e-01     0.0   \n",
       "outpatient_visit_count           278998.0  5.606671e-01  1.575432e+00     0.0   \n",
       "er_visit_count                   278998.0  0.000000e+00  0.000000e+00     0.0   \n",
       "window_id                        278998.0  2.125599e+00  1.426421e+00     0.0   \n",
       "days_since_latest_condition      278998.0  2.262889e+01  4.097739e+01     0.0   \n",
       "condition_status_concept_id      278998.0  4.223741e+05  1.266892e+06     0.0   \n",
       "days_since_latest_procedure      278998.0  1.720725e+01  3.428229e+01     0.0   \n",
       "days_since_latest_drug_exposure  278998.0  2.180283e+01  4.246558e+01     0.0   \n",
       "total_quantity_of_drugs          278998.0           NaN           NaN     0.0   \n",
       "days_since_latest_observation    278998.0  1.549834e+01  3.418465e+01     0.0   \n",
       "\n",
       "                                     25%         50%         75%         max  \n",
       "person_id                        38065.0     75703.0    113636.0    151684.0  \n",
       "days_since_latest_visit             18.0        50.0       100.0       180.0  \n",
       "ethnicity_concept_id                 0.0  38003564.0  38003564.0  38003564.0  \n",
       "race_concept_id                   8512.0      8528.0      8560.0      8656.0  \n",
       "gender_concept_id                 8507.0      8532.0      8532.0      8532.0  \n",
       "race_concept_name                    1.0         3.0         4.0         5.0  \n",
       "number_of_visits                     1.0         2.0         3.0       465.0  \n",
       "visit_concept_name                   0.0         0.0         1.0        65.0  \n",
       "visit_duration                       0.0         0.0         0.0       138.0  \n",
       "old                                 67.0        73.0        80.0       101.0  \n",
       "inpatient_visit_count                0.0         0.0         0.0         9.0  \n",
       "outpatient_visit_count               0.0         0.0         1.0        61.0  \n",
       "er_visit_count                       0.0         0.0         0.0         0.0  \n",
       "window_id                            1.0         2.0         3.0         5.0  \n",
       "days_since_latest_condition          0.0         0.0        27.0       180.0  \n",
       "condition_status_concept_id          0.0         0.0         0.0   4230359.0  \n",
       "days_since_latest_procedure          0.0         1.0        16.0       180.0  \n",
       "days_since_latest_drug_exposure      0.0         0.0        21.0       180.0  \n",
       "total_quantity_of_drugs              0.0         0.0         0.0       960.0  \n",
       "days_since_latest_observation        0.0         0.0        11.0       180.0  "
      ]
     },
     "execution_count": 25,
     "metadata": {},
     "output_type": "execute_result"
    }
   ],
   "source": [
    "train.describe().T"
   ]
  },
  {
   "cell_type": "code",
   "execution_count": 26,
   "metadata": {},
   "outputs": [
    {
     "data": {
      "text/plain": [
       "(278998, 234)"
      ]
     },
     "execution_count": 26,
     "metadata": {},
     "output_type": "execute_result"
    }
   ],
   "source": [
    "train.shape"
   ]
  },
  {
   "cell_type": "code",
   "execution_count": 27,
   "metadata": {},
   "outputs": [],
   "source": [
    "#train = train.drop(train.columns[train.columns.str.startswith('days_since')], axis=1)"
   ]
  },
  {
   "cell_type": "code",
   "execution_count": 28,
   "metadata": {},
   "outputs": [],
   "source": [
    "X = train.drop(['death_in_next_window','person_id'], axis = 1)\n",
    "train_features = X.columns.values\n",
    "y = train[['death_in_next_window']]\n",
    "X = np.array(X)\n",
    "y = np.array(y).ravel()"
   ]
  },
  {
   "cell_type": "code",
   "execution_count": 29,
   "metadata": {},
   "outputs": [],
   "source": [
    "# # there are no duplicates\n",
    "# train_nodup = train.drop_duplicates()\n",
    "# train_nodup.shape"
   ]
  },
  {
   "cell_type": "markdown",
   "metadata": {},
   "source": [
    "## Test"
   ]
  },
  {
   "cell_type": "code",
   "execution_count": 30,
   "metadata": {},
   "outputs": [
    {
     "data": {
      "text/plain": [
       "(118781, 27)"
      ]
     },
     "execution_count": 30,
     "metadata": {},
     "output_type": "execute_result"
    }
   ],
   "source": [
    "test_file = FOLDER+'test_all.csv'\n",
    "test = pd.read_csv(test_file,low_memory = False)\n",
    "test.shape"
   ]
  },
  {
   "cell_type": "code",
   "execution_count": 31,
   "metadata": {},
   "outputs": [
    {
     "ename": "ValueError",
     "evalue": "invalid literal for int() with base 10: '37 days 00:00:00.000000000'",
     "output_type": "error",
     "traceback": [
      "\u001b[0;31m---------------------------------------------------------------------------\u001b[0m",
      "\u001b[0;31mValueError\u001b[0m                                Traceback (most recent call last)",
      "\u001b[0;32m<ipython-input-31-5acfccb6fcd2>\u001b[0m in \u001b[0;36m<module>\u001b[0;34m\u001b[0m\n\u001b[0;32m----> 1\u001b[0;31m \u001b[0mtest\u001b[0m \u001b[0;34m=\u001b[0m \u001b[0mcols_toint\u001b[0m\u001b[0;34m(\u001b[0m\u001b[0mtest\u001b[0m\u001b[0;34m)\u001b[0m\u001b[0;34m\u001b[0m\u001b[0;34m\u001b[0m\u001b[0m\n\u001b[0m\u001b[1;32m      2\u001b[0m \u001b[0mtest\u001b[0m\u001b[0;34m.\u001b[0m\u001b[0mshape\u001b[0m\u001b[0;34m\u001b[0m\u001b[0;34m\u001b[0m\u001b[0m\n",
      "\u001b[0;32m<ipython-input-16-602db67338ba>\u001b[0m in \u001b[0;36mcols_toint\u001b[0;34m(df)\u001b[0m\n\u001b[1;32m      3\u001b[0m     \u001b[0mdf\u001b[0m\u001b[0;34m.\u001b[0m\u001b[0mold\u001b[0m \u001b[0;34m=\u001b[0m \u001b[0mdf\u001b[0m\u001b[0;34m.\u001b[0m\u001b[0mold\u001b[0m\u001b[0;34m.\u001b[0m\u001b[0mastype\u001b[0m\u001b[0;34m(\u001b[0m\u001b[0mint\u001b[0m\u001b[0;34m)\u001b[0m\u001b[0;34m\u001b[0m\u001b[0;34m\u001b[0m\u001b[0m\n\u001b[1;32m      4\u001b[0m     \u001b[0;32mfor\u001b[0m \u001b[0mc\u001b[0m \u001b[0;32min\u001b[0m \u001b[0mdf\u001b[0m\u001b[0;34m.\u001b[0m\u001b[0mcolumns\u001b[0m\u001b[0;34m[\u001b[0m\u001b[0mdf\u001b[0m\u001b[0;34m.\u001b[0m\u001b[0mcolumns\u001b[0m\u001b[0;34m.\u001b[0m\u001b[0mstr\u001b[0m\u001b[0;34m.\u001b[0m\u001b[0mstartswith\u001b[0m\u001b[0;34m(\u001b[0m\u001b[0;34m'days'\u001b[0m\u001b[0;34m)\u001b[0m\u001b[0;34m]\u001b[0m\u001b[0;34m:\u001b[0m\u001b[0;34m\u001b[0m\u001b[0;34m\u001b[0m\u001b[0m\n\u001b[0;32m----> 5\u001b[0;31m         \u001b[0mdf\u001b[0m\u001b[0;34m[\u001b[0m\u001b[0mc\u001b[0m\u001b[0;34m]\u001b[0m \u001b[0;34m=\u001b[0m \u001b[0mdf\u001b[0m\u001b[0;34m[\u001b[0m\u001b[0mc\u001b[0m\u001b[0;34m]\u001b[0m\u001b[0;34m.\u001b[0m\u001b[0mastype\u001b[0m\u001b[0;34m(\u001b[0m\u001b[0mint\u001b[0m\u001b[0;34m)\u001b[0m\u001b[0;34m\u001b[0m\u001b[0;34m\u001b[0m\u001b[0m\n\u001b[0m\u001b[1;32m      6\u001b[0m     \u001b[0;32mreturn\u001b[0m \u001b[0mdf\u001b[0m\u001b[0;34m\u001b[0m\u001b[0;34m\u001b[0m\u001b[0m\n",
      "\u001b[0;32m~/anaconda3/lib/python3.7/site-packages/pandas/core/generic.py\u001b[0m in \u001b[0;36mastype\u001b[0;34m(self, dtype, copy, errors, **kwargs)\u001b[0m\n\u001b[1;32m   5880\u001b[0m             \u001b[0;31m# else, only a single dtype is given\u001b[0m\u001b[0;34m\u001b[0m\u001b[0;34m\u001b[0m\u001b[0;34m\u001b[0m\u001b[0m\n\u001b[1;32m   5881\u001b[0m             new_data = self._data.astype(\n\u001b[0;32m-> 5882\u001b[0;31m                 \u001b[0mdtype\u001b[0m\u001b[0;34m=\u001b[0m\u001b[0mdtype\u001b[0m\u001b[0;34m,\u001b[0m \u001b[0mcopy\u001b[0m\u001b[0;34m=\u001b[0m\u001b[0mcopy\u001b[0m\u001b[0;34m,\u001b[0m \u001b[0merrors\u001b[0m\u001b[0;34m=\u001b[0m\u001b[0merrors\u001b[0m\u001b[0;34m,\u001b[0m \u001b[0;34m**\u001b[0m\u001b[0mkwargs\u001b[0m\u001b[0;34m\u001b[0m\u001b[0;34m\u001b[0m\u001b[0m\n\u001b[0m\u001b[1;32m   5883\u001b[0m             )\n\u001b[1;32m   5884\u001b[0m             \u001b[0;32mreturn\u001b[0m \u001b[0mself\u001b[0m\u001b[0;34m.\u001b[0m\u001b[0m_constructor\u001b[0m\u001b[0;34m(\u001b[0m\u001b[0mnew_data\u001b[0m\u001b[0;34m)\u001b[0m\u001b[0;34m.\u001b[0m\u001b[0m__finalize__\u001b[0m\u001b[0;34m(\u001b[0m\u001b[0mself\u001b[0m\u001b[0;34m)\u001b[0m\u001b[0;34m\u001b[0m\u001b[0;34m\u001b[0m\u001b[0m\n",
      "\u001b[0;32m~/anaconda3/lib/python3.7/site-packages/pandas/core/internals/managers.py\u001b[0m in \u001b[0;36mastype\u001b[0;34m(self, dtype, **kwargs)\u001b[0m\n\u001b[1;32m    579\u001b[0m \u001b[0;34m\u001b[0m\u001b[0m\n\u001b[1;32m    580\u001b[0m     \u001b[0;32mdef\u001b[0m \u001b[0mastype\u001b[0m\u001b[0;34m(\u001b[0m\u001b[0mself\u001b[0m\u001b[0;34m,\u001b[0m \u001b[0mdtype\u001b[0m\u001b[0;34m,\u001b[0m \u001b[0;34m**\u001b[0m\u001b[0mkwargs\u001b[0m\u001b[0;34m)\u001b[0m\u001b[0;34m:\u001b[0m\u001b[0;34m\u001b[0m\u001b[0;34m\u001b[0m\u001b[0m\n\u001b[0;32m--> 581\u001b[0;31m         \u001b[0;32mreturn\u001b[0m \u001b[0mself\u001b[0m\u001b[0;34m.\u001b[0m\u001b[0mapply\u001b[0m\u001b[0;34m(\u001b[0m\u001b[0;34m\"astype\"\u001b[0m\u001b[0;34m,\u001b[0m \u001b[0mdtype\u001b[0m\u001b[0;34m=\u001b[0m\u001b[0mdtype\u001b[0m\u001b[0;34m,\u001b[0m \u001b[0;34m**\u001b[0m\u001b[0mkwargs\u001b[0m\u001b[0;34m)\u001b[0m\u001b[0;34m\u001b[0m\u001b[0;34m\u001b[0m\u001b[0m\n\u001b[0m\u001b[1;32m    582\u001b[0m \u001b[0;34m\u001b[0m\u001b[0m\n\u001b[1;32m    583\u001b[0m     \u001b[0;32mdef\u001b[0m \u001b[0mconvert\u001b[0m\u001b[0;34m(\u001b[0m\u001b[0mself\u001b[0m\u001b[0;34m,\u001b[0m \u001b[0;34m**\u001b[0m\u001b[0mkwargs\u001b[0m\u001b[0;34m)\u001b[0m\u001b[0;34m:\u001b[0m\u001b[0;34m\u001b[0m\u001b[0;34m\u001b[0m\u001b[0m\n",
      "\u001b[0;32m~/anaconda3/lib/python3.7/site-packages/pandas/core/internals/managers.py\u001b[0m in \u001b[0;36mapply\u001b[0;34m(self, f, axes, filter, do_integrity_check, consolidate, **kwargs)\u001b[0m\n\u001b[1;32m    436\u001b[0m                     \u001b[0mkwargs\u001b[0m\u001b[0;34m[\u001b[0m\u001b[0mk\u001b[0m\u001b[0;34m]\u001b[0m \u001b[0;34m=\u001b[0m \u001b[0mobj\u001b[0m\u001b[0;34m.\u001b[0m\u001b[0mreindex\u001b[0m\u001b[0;34m(\u001b[0m\u001b[0mb_items\u001b[0m\u001b[0;34m,\u001b[0m \u001b[0maxis\u001b[0m\u001b[0;34m=\u001b[0m\u001b[0maxis\u001b[0m\u001b[0;34m,\u001b[0m \u001b[0mcopy\u001b[0m\u001b[0;34m=\u001b[0m\u001b[0malign_copy\u001b[0m\u001b[0;34m)\u001b[0m\u001b[0;34m\u001b[0m\u001b[0;34m\u001b[0m\u001b[0m\n\u001b[1;32m    437\u001b[0m \u001b[0;34m\u001b[0m\u001b[0m\n\u001b[0;32m--> 438\u001b[0;31m             \u001b[0mapplied\u001b[0m \u001b[0;34m=\u001b[0m \u001b[0mgetattr\u001b[0m\u001b[0;34m(\u001b[0m\u001b[0mb\u001b[0m\u001b[0;34m,\u001b[0m \u001b[0mf\u001b[0m\u001b[0;34m)\u001b[0m\u001b[0;34m(\u001b[0m\u001b[0;34m**\u001b[0m\u001b[0mkwargs\u001b[0m\u001b[0;34m)\u001b[0m\u001b[0;34m\u001b[0m\u001b[0;34m\u001b[0m\u001b[0m\n\u001b[0m\u001b[1;32m    439\u001b[0m             \u001b[0mresult_blocks\u001b[0m \u001b[0;34m=\u001b[0m \u001b[0m_extend_blocks\u001b[0m\u001b[0;34m(\u001b[0m\u001b[0mapplied\u001b[0m\u001b[0;34m,\u001b[0m \u001b[0mresult_blocks\u001b[0m\u001b[0;34m)\u001b[0m\u001b[0;34m\u001b[0m\u001b[0;34m\u001b[0m\u001b[0m\n\u001b[1;32m    440\u001b[0m \u001b[0;34m\u001b[0m\u001b[0m\n",
      "\u001b[0;32m~/anaconda3/lib/python3.7/site-packages/pandas/core/internals/blocks.py\u001b[0m in \u001b[0;36mastype\u001b[0;34m(self, dtype, copy, errors, values, **kwargs)\u001b[0m\n\u001b[1;32m    557\u001b[0m \u001b[0;34m\u001b[0m\u001b[0m\n\u001b[1;32m    558\u001b[0m     \u001b[0;32mdef\u001b[0m \u001b[0mastype\u001b[0m\u001b[0;34m(\u001b[0m\u001b[0mself\u001b[0m\u001b[0;34m,\u001b[0m \u001b[0mdtype\u001b[0m\u001b[0;34m,\u001b[0m \u001b[0mcopy\u001b[0m\u001b[0;34m=\u001b[0m\u001b[0;32mFalse\u001b[0m\u001b[0;34m,\u001b[0m \u001b[0merrors\u001b[0m\u001b[0;34m=\u001b[0m\u001b[0;34m\"raise\"\u001b[0m\u001b[0;34m,\u001b[0m \u001b[0mvalues\u001b[0m\u001b[0;34m=\u001b[0m\u001b[0;32mNone\u001b[0m\u001b[0;34m,\u001b[0m \u001b[0;34m**\u001b[0m\u001b[0mkwargs\u001b[0m\u001b[0;34m)\u001b[0m\u001b[0;34m:\u001b[0m\u001b[0;34m\u001b[0m\u001b[0;34m\u001b[0m\u001b[0m\n\u001b[0;32m--> 559\u001b[0;31m         \u001b[0;32mreturn\u001b[0m \u001b[0mself\u001b[0m\u001b[0;34m.\u001b[0m\u001b[0m_astype\u001b[0m\u001b[0;34m(\u001b[0m\u001b[0mdtype\u001b[0m\u001b[0;34m,\u001b[0m \u001b[0mcopy\u001b[0m\u001b[0;34m=\u001b[0m\u001b[0mcopy\u001b[0m\u001b[0;34m,\u001b[0m \u001b[0merrors\u001b[0m\u001b[0;34m=\u001b[0m\u001b[0merrors\u001b[0m\u001b[0;34m,\u001b[0m \u001b[0mvalues\u001b[0m\u001b[0;34m=\u001b[0m\u001b[0mvalues\u001b[0m\u001b[0;34m,\u001b[0m \u001b[0;34m**\u001b[0m\u001b[0mkwargs\u001b[0m\u001b[0;34m)\u001b[0m\u001b[0;34m\u001b[0m\u001b[0;34m\u001b[0m\u001b[0m\n\u001b[0m\u001b[1;32m    560\u001b[0m \u001b[0;34m\u001b[0m\u001b[0m\n\u001b[1;32m    561\u001b[0m     \u001b[0;32mdef\u001b[0m \u001b[0m_astype\u001b[0m\u001b[0;34m(\u001b[0m\u001b[0mself\u001b[0m\u001b[0;34m,\u001b[0m \u001b[0mdtype\u001b[0m\u001b[0;34m,\u001b[0m \u001b[0mcopy\u001b[0m\u001b[0;34m=\u001b[0m\u001b[0;32mFalse\u001b[0m\u001b[0;34m,\u001b[0m \u001b[0merrors\u001b[0m\u001b[0;34m=\u001b[0m\u001b[0;34m\"raise\"\u001b[0m\u001b[0;34m,\u001b[0m \u001b[0mvalues\u001b[0m\u001b[0;34m=\u001b[0m\u001b[0;32mNone\u001b[0m\u001b[0;34m,\u001b[0m \u001b[0;34m**\u001b[0m\u001b[0mkwargs\u001b[0m\u001b[0;34m)\u001b[0m\u001b[0;34m:\u001b[0m\u001b[0;34m\u001b[0m\u001b[0;34m\u001b[0m\u001b[0m\n",
      "\u001b[0;32m~/anaconda3/lib/python3.7/site-packages/pandas/core/internals/blocks.py\u001b[0m in \u001b[0;36m_astype\u001b[0;34m(self, dtype, copy, errors, values, **kwargs)\u001b[0m\n\u001b[1;32m    641\u001b[0m                     \u001b[0;31m# _astype_nansafe works fine with 1-d only\u001b[0m\u001b[0;34m\u001b[0m\u001b[0;34m\u001b[0m\u001b[0;34m\u001b[0m\u001b[0m\n\u001b[1;32m    642\u001b[0m                     \u001b[0mvals1d\u001b[0m \u001b[0;34m=\u001b[0m \u001b[0mvalues\u001b[0m\u001b[0;34m.\u001b[0m\u001b[0mravel\u001b[0m\u001b[0;34m(\u001b[0m\u001b[0;34m)\u001b[0m\u001b[0;34m\u001b[0m\u001b[0;34m\u001b[0m\u001b[0m\n\u001b[0;32m--> 643\u001b[0;31m                     \u001b[0mvalues\u001b[0m \u001b[0;34m=\u001b[0m \u001b[0mastype_nansafe\u001b[0m\u001b[0;34m(\u001b[0m\u001b[0mvals1d\u001b[0m\u001b[0;34m,\u001b[0m \u001b[0mdtype\u001b[0m\u001b[0;34m,\u001b[0m \u001b[0mcopy\u001b[0m\u001b[0;34m=\u001b[0m\u001b[0;32mTrue\u001b[0m\u001b[0;34m,\u001b[0m \u001b[0;34m**\u001b[0m\u001b[0mkwargs\u001b[0m\u001b[0;34m)\u001b[0m\u001b[0;34m\u001b[0m\u001b[0;34m\u001b[0m\u001b[0m\n\u001b[0m\u001b[1;32m    644\u001b[0m \u001b[0;34m\u001b[0m\u001b[0m\n\u001b[1;32m    645\u001b[0m                 \u001b[0;31m# TODO(extension)\u001b[0m\u001b[0;34m\u001b[0m\u001b[0;34m\u001b[0m\u001b[0;34m\u001b[0m\u001b[0m\n",
      "\u001b[0;32m~/anaconda3/lib/python3.7/site-packages/pandas/core/dtypes/cast.py\u001b[0m in \u001b[0;36mastype_nansafe\u001b[0;34m(arr, dtype, copy, skipna)\u001b[0m\n\u001b[1;32m    705\u001b[0m         \u001b[0;31m# work around NumPy brokenness, #1987\u001b[0m\u001b[0;34m\u001b[0m\u001b[0;34m\u001b[0m\u001b[0;34m\u001b[0m\u001b[0m\n\u001b[1;32m    706\u001b[0m         \u001b[0;32mif\u001b[0m \u001b[0mnp\u001b[0m\u001b[0;34m.\u001b[0m\u001b[0missubdtype\u001b[0m\u001b[0;34m(\u001b[0m\u001b[0mdtype\u001b[0m\u001b[0;34m.\u001b[0m\u001b[0mtype\u001b[0m\u001b[0;34m,\u001b[0m \u001b[0mnp\u001b[0m\u001b[0;34m.\u001b[0m\u001b[0minteger\u001b[0m\u001b[0;34m)\u001b[0m\u001b[0;34m:\u001b[0m\u001b[0;34m\u001b[0m\u001b[0;34m\u001b[0m\u001b[0m\n\u001b[0;32m--> 707\u001b[0;31m             \u001b[0;32mreturn\u001b[0m \u001b[0mlib\u001b[0m\u001b[0;34m.\u001b[0m\u001b[0mastype_intsafe\u001b[0m\u001b[0;34m(\u001b[0m\u001b[0marr\u001b[0m\u001b[0;34m.\u001b[0m\u001b[0mravel\u001b[0m\u001b[0;34m(\u001b[0m\u001b[0;34m)\u001b[0m\u001b[0;34m,\u001b[0m \u001b[0mdtype\u001b[0m\u001b[0;34m)\u001b[0m\u001b[0;34m.\u001b[0m\u001b[0mreshape\u001b[0m\u001b[0;34m(\u001b[0m\u001b[0marr\u001b[0m\u001b[0;34m.\u001b[0m\u001b[0mshape\u001b[0m\u001b[0;34m)\u001b[0m\u001b[0;34m\u001b[0m\u001b[0;34m\u001b[0m\u001b[0m\n\u001b[0m\u001b[1;32m    708\u001b[0m \u001b[0;34m\u001b[0m\u001b[0m\n\u001b[1;32m    709\u001b[0m         \u001b[0;31m# if we have a datetime/timedelta array of objects\u001b[0m\u001b[0;34m\u001b[0m\u001b[0;34m\u001b[0m\u001b[0;34m\u001b[0m\u001b[0m\n",
      "\u001b[0;32mpandas/_libs/lib.pyx\u001b[0m in \u001b[0;36mpandas._libs.lib.astype_intsafe\u001b[0;34m()\u001b[0m\n",
      "\u001b[0;31mValueError\u001b[0m: invalid literal for int() with base 10: '37 days 00:00:00.000000000'"
     ]
    }
   ],
   "source": [
    "test = cols_toint(test)\n",
    "test.shape"
   ]
  },
  {
   "cell_type": "code",
   "execution_count": null,
   "metadata": {},
   "outputs": [],
   "source": [
    "test.race_concept_name = test.race_concept_name.replace(to_replace=0, value='Unknown')\n",
    "test.race_concept_name = test.race_concept_name.fillna('Unknown')\n",
    "test.race_concept_name = label_encoder.transform(test.race_concept_name)"
   ]
  },
  {
   "cell_type": "code",
   "execution_count": null,
   "metadata": {},
   "outputs": [],
   "source": [
    "#test = test.drop(test.columns[test.columns.str.startswith('days_since')], axis=1)"
   ]
  },
  {
   "cell_type": "code",
   "execution_count": null,
   "metadata": {},
   "outputs": [],
   "source": [
    "X_test = test.drop(['person_id'], axis = 1)\n",
    "X_test = X_test[train_features]  # order the test columns like train\n",
    "test_features = X_test.columns.values\n",
    "X_test = np.array(X_test)"
   ]
  },
  {
   "cell_type": "code",
   "execution_count": null,
   "metadata": {},
   "outputs": [],
   "source": [
    "person = pd.read_csv(FOLDER+'../infer/person.csv')\n",
    "visit = pd.read_csv(FOLDER+'../infer/visit_occurrence.csv')\n",
    "cols = ['person_id','visit_start_date']\n",
    "visit = visit[cols]\n",
    "death = pd.read_csv(FOLDER+'../infer/death.csv')\n",
    "cols = ['person_id','death_date']\n",
    "death = death[cols]\n",
    "visit_death = pd.merge(death,visit,on=['person_id'],how='inner')\n",
    "visit_death['death_date'] = pd.to_datetime(visit_death['death_date'], format='%Y-%m-%d')\n",
    "visit_death['visit_start_date'] = pd.to_datetime(visit_death['visit_start_date'], format='%Y-%m-%d')\n",
    "visit_death['last_visit_death'] = visit_death['death_date'] - visit_death['visit_start_date']\n",
    "visit_death['last_visit_death'] = visit_death['last_visit_death'].apply(lambda x: x.days)\n",
    "visit_death = visit_death.loc[visit_death['last_visit_death'] <= 180]\n",
    "visit_death.drop_duplicates(subset=['person_id'], keep = 'first',inplace = True)\n",
    "visit_death = visit_death[['person_id','visit_start_date']]\n",
    "visit_death.columns = ['person_id','prediction_date']\n",
    "visit_death['death'] = np.ones(visit_death.shape[0])\n",
    "visit_live = visit[~visit.person_id.isin(visit_death.person_id)]\n",
    "visit_live = visit_live[['person_id','visit_start_date']]"
   ]
  },
  {
   "cell_type": "code",
   "execution_count": null,
   "metadata": {},
   "outputs": [],
   "source": [
    "visit_death.death = visit_death.death.astype(int)\n",
    "visit_death = visit_death.set_index('person_id')\n",
    "visit_death = visit_death.drop('prediction_date', axis=1)\n",
    "visit_death.head()"
   ]
  },
  {
   "cell_type": "code",
   "execution_count": null,
   "metadata": {},
   "outputs": [],
   "source": [
    "visit_death.shape"
   ]
  },
  {
   "cell_type": "code",
   "execution_count": null,
   "metadata": {},
   "outputs": [],
   "source": [
    "y_test = pd.DataFrame(index=person.person_id)\n",
    "y_test['death'] = 0\n",
    "y_test.death = visit_death.death\n",
    "y_test = y_test.fillna(0)\n",
    "y_test = y_test.astype(int)\n",
    "y_test.shape"
   ]
  },
  {
   "cell_type": "code",
   "execution_count": null,
   "metadata": {},
   "outputs": [],
   "source": [
    "y_test.head()"
   ]
  },
  {
   "cell_type": "code",
   "execution_count": null,
   "metadata": {},
   "outputs": [],
   "source": [
    "y_test.death.sum()"
   ]
  },
  {
   "cell_type": "code",
   "execution_count": null,
   "metadata": {},
   "outputs": [],
   "source": [
    "20 % 10"
   ]
  },
  {
   "cell_type": "markdown",
   "metadata": {},
   "source": [
    "## XGB Model"
   ]
  },
  {
   "cell_type": "code",
   "execution_count": 96,
   "metadata": {},
   "outputs": [],
   "source": [
    "def plot_perf_i(evals_result, nth=10): \n",
    "    '''interactive plot model performance over epochs interactive'''\n",
    "    from IPython.display import display, clear_output\n",
    "    fig, ax1 = plt.subplots(1,1, figsize=(10,5))\n",
    "#    fig, (ax1, ax2) = plt.subplots(2,1, figsize=(10,10))\n",
    "    plt.ion()\n",
    "    display(fig)\n",
    "    counter = 0\n",
    "    \n",
    "    def callback(_,): #, fig, ax1, ax2):\n",
    "        if evals_result == {}: # skip the empty dict  \n",
    "            return callback\n",
    "\n",
    "        epochs = len(evals_result['train']['auc'])\n",
    "        if epochs % nth != 0:  # only plasdfot every nth iteration\n",
    "            return callback\n",
    "\n",
    "        clear_output(wait=True)  # plot over the previous picture\n",
    "        x_axis = range(0, epochs)\n",
    "        ax1.plot(x_axis, evals_result['train']['auc'], label='Train ', c='g')\n",
    "        ax1.plot(x_axis, evals_result['valid']['auc'], label='Valid ', c='b')\n",
    "        ax1.ticklabel_format(useOffset=False, style='plain')\n",
    "        # ax1.legend()  # legends are messy and result in duplicates\n",
    "        ax1.set_ylabel('AUC')\n",
    "        ax1.set_title('XGBoost AUC ')\n",
    "        ax1.grid(True)\n",
    "\n",
    "        # needs to be generalized ??? \n",
    "#         ax2.plot(x_axis, evals_result['train']['error'], label='Train ', c='g')\n",
    "#         ax2.plot(x_axis, evals_result['valid']['error'], label='Valid ', c='b')\n",
    "#         ax2.ticklabel_format(useOffset=False, style='plain')\n",
    "#         # ax2.legend()\n",
    "#         ax2.set_ylabel('Classification Error')\n",
    "#         ax2.set_title('XGBoost Classification Error')\n",
    "#         ax2.grid(True)\n",
    "\n",
    "        display(fig)\n",
    "        plt.close()\n",
    "\n",
    "    return callback"
   ]
  },
  {
   "cell_type": "code",
   "execution_count": 33,
   "metadata": {},
   "outputs": [],
   "source": [
    "def old_plot_perf(evals_result, best):\n",
    "    ''' plot all model performance metrics over epochs '''\n",
    "    epochs = len(evals_result['train']['auc'])\n",
    "    x_axis = range(0, epochs)\n",
    "    fig, (ax1, ax2) = plt.subplots(2,1, figsize=(10,10))\n",
    "    ax1.plot(x_axis, evals_result['train']['auc'], label='Train '+str(evals_result['train']['auc'][best]), c='g')\n",
    "    ax1.plot(x_axis, evals_result['valid']['auc'], label='Valid '+str(evals_result['valid']['auc'][best]), c='b')\n",
    "    ax1.ticklabel_format(useOffset=False, style='plain')\n",
    "    ax1.axvline(x=xgb_model.best_ntree_limit, color='r', label='best '+str(xgb_model.best_ntree_limit))\n",
    "    ax1.grid(True)\n",
    "    ax1.legend()\n",
    "    ax1.set_ylabel('AUC')\n",
    "    ax1.set_title('XGBoost AUC ')\n",
    "    ax2.plot(x_axis, evals_result['train']['error'], label='Train '+str(evals_result['train']['error'][-1]), c='g')\n",
    "    ax2.plot(x_axis, evals_result['valid']['error'], label='Valid '+str(evals_result['valid']['error'][best]), c='b')\n",
    "    ax2.ticklabel_format(useOffset=False, style='plain')\n",
    "    ax2.axvline(x=xgb_model.best_ntree_limit, color='r', label='best '+str(xgb_model.best_ntree_limit))\n",
    "    ax2.grid(True)\n",
    "    ax2.legend()\n",
    "    ax2.set_ylabel('Classification Error')\n",
    "    ax2.set_title('XGBoost Classification Error')\n",
    "    plt.show()"
   ]
  },
  {
   "cell_type": "code",
   "execution_count": 86,
   "metadata": {},
   "outputs": [],
   "source": [
    "def plot_perf(evals_result, best):\n",
    "    ''' plot all model performance metrics over epochs'''\n",
    "    keys = list(evals_result.keys())\n",
    "    metrics = list(evals_result[keys[0]].keys())\n",
    "    epochs = len(evals_result[keys[0]][metrics[0]])\n",
    "    num_plots = len(metrics)\n",
    "    x_axis = range(0, epochs)\n",
    "    fig, axs = plt.subplots(num_plots, 1, figsize=(10,5*num_plots))\n",
    "    for p in range(num_plots):\n",
    "        axs[p].plot(x_axis, evals_result[keys[0]][metrics[p]], \n",
    "                    label=keys[0]+' '+str(evals_result[keys[0]][metrics[p]][best]), c='g')\n",
    "        axs[p].plot(x_axis, evals_result[keys[1]][metrics[p]], \n",
    "                    label=keys[1]+' '+str(evals_result[keys[1]][metrics[p]][best]), c='b')\n",
    "        axs[p].ticklabel_format(useOffset=False, style='plain')\n",
    "        axs[p].axvline(x=best, color='r', label='best '+str(best))\n",
    "        axs[p].grid(True)\n",
    "        axs[p].legend()\n",
    "        axs[p].set_ylabel(metrics[p])\n",
    "        axs[p].set_title(metrics[p])\n",
    "    plt.show()"
   ]
  },
  {
   "cell_type": "code",
   "execution_count": 93,
   "metadata": {},
   "outputs": [],
   "source": [
    "random_state = 1234\n",
    "num_round = 2000\n",
    "early_stop = round(num_round / 10)  # 10% of the full rounds\n",
    "metrics = ['auc']                   # faster with fewer metrics to calc\n",
    "metrics = ['aucpr','error', 'auc']\n",
    "\n",
    "params = {\n",
    "    'objective': 'binary:logistic',\n",
    "    'booster': 'gbtree',\n",
    "    'eval_metric': metrics,\n",
    "    'tree_method' : 'gpu_hist',  # set to 'auto' if no gpu - other options 'gpu_hist', 'hist', 'exact'\n",
    "    'random_state' : random_state,\n",
    "    'reg_lambda' : 1.0,\n",
    "    'min_child_weight' : 1.0,\n",
    "    'max_bin' : 256,\n",
    "    'min_split_loss' : 0.01,\n",
    "    'max_depth' : 10,\n",
    "    'reg_alpha' : 0.0,\n",
    "    'colsample_bylevel' : 1.0,\n",
    "    'scale_pos_weight' : 1.0,\n",
    "    'max_delta_step' : 0.0,\n",
    "    'learning_rate' : 0.05,\n",
    "    'n_estimators' : 1000,\n",
    "    'num_parallel_tree' : 1,\n",
    "    'colsample_bytree' : 0.5,\n",
    "    'subsample' : 1.0,\n",
    "    'n_jobs': -1.0,\n",
    "}"
   ]
  },
  {
   "cell_type": "code",
   "execution_count": 35,
   "metadata": {},
   "outputs": [],
   "source": [
    "from sklearn.model_selection import train_test_split, StratifiedShuffleSplit\n",
    "# X_train, X_valid, y_train, y_valid = train_test_split(X, y, test_size=0.2, random_state=1234, stratify=y)\n",
    "\n",
    "sss = StratifiedShuffleSplit(n_splits=1, test_size=0.2, random_state=1234)\n",
    "\n",
    "for train_index, valid_index in sss.split(X, y):\n",
    "    X_train, X_valid = X[train_index], X[valid_index]\n",
    "    y_train, y_valid = y[train_index], y[valid_index]"
   ]
  },
  {
   "cell_type": "code",
   "execution_count": 118,
   "metadata": {},
   "outputs": [
    {
     "data": {
      "application/vnd.jupyter.widget-view+json": {
       "model_id": "2ce52977d6874364aabe1933e0abb426",
       "version_major": 2,
       "version_minor": 0
      },
      "text/plain": [
       "HBox(children=(IntProgress(value=0, max=2000), HTML(value='')))"
      ]
     },
     "metadata": {},
     "output_type": "display_data"
    },
    {
     "name": "stdout",
     "output_type": "stream",
     "text": [
      "Best Score:0.744090, best iteration:59, best ntree:60\n"
     ]
    },
    {
     "data": {
      "application/vnd.jupyter.widget-view+json": {
       "model_id": "757388bb9eec4945befcab4a45c8408f",
       "version_major": 2,
       "version_minor": 0
      },
      "text/plain": [
       "HBox(children=(IntProgress(value=0, max=2000), HTML(value='')))"
      ]
     },
     "metadata": {},
     "output_type": "display_data"
    },
    {
     "name": "stdout",
     "output_type": "stream",
     "text": [
      "Best Score:0.707408, best iteration:75, best ntree:76\n"
     ]
    },
    {
     "data": {
      "application/vnd.jupyter.widget-view+json": {
       "model_id": "f8572f584c3e450e9f0ffedf0c3bf766",
       "version_major": 2,
       "version_minor": 0
      },
      "text/plain": [
       "HBox(children=(IntProgress(value=0, max=2000), HTML(value='')))"
      ]
     },
     "metadata": {},
     "output_type": "display_data"
    },
    {
     "name": "stdout",
     "output_type": "stream",
     "text": [
      "Best Score:0.739498, best iteration:60, best ntree:61\n",
      "CPU times: user 4min 24s, sys: 8.64 s, total: 4min 32s\n",
      "Wall time: 44.7 s\n"
     ]
    }
   ],
   "source": [
    "%%time\n",
    "from sklearn.model_selection import StratifiedKFold\n",
    "\n",
    "cv = StratifiedKFold(n_splits=3, shuffle=True, random_state=random_state)\n",
    "\n",
    "cv_scores = {}\n",
    "for i, (train_index, valid_index) in enumerate(cv.split(X, y)):\n",
    "    X_train, X_valid = X[train_index], X[valid_index]\n",
    "    y_train, y_valid = y[train_index], y[valid_index]\n",
    "\n",
    "    evals_result ={}\n",
    "    # Convert our data into XGBoost format\n",
    "    d_train = xgb.DMatrix(X_train, y_train, feature_names=train_features)\n",
    "    d_valid = xgb.DMatrix(X_valid, y_valid,  feature_names=train_features)\n",
    "    watchlist = [(d_train, 'train'), (d_valid, 'valid')]\n",
    "\n",
    "    xgb_model = xgb.train(params=params, dtrain=d_train, num_boost_round=num_round, \n",
    "                          evals=watchlist, evals_result=evals_result, \n",
    "                          early_stopping_rounds=early_stop, verbose_eval=False,\n",
    "                          callbacks=[ xgb_progressbar(num_round),]) # use either the progress bar or the plot\n",
    "                                     # plot_perf_i(evals_result)]) \n",
    "    cv_scores[i] = {'best_score': xgb_model.best_score, \n",
    "                    'best_iteration': xgb_model.best_iteration, \n",
    "                    'best_ntree_limit': xgb_model.best_ntree_limit,\n",
    "                    'evals_result': evals_result}\n",
    "\n",
    "    print(\"Best Score:%f, best iteration:%d, best ntree:%d\" % \n",
    "          (xgb_model.best_score, xgb_model.best_iteration, xgb_model.best_ntree_limit))"
   ]
  },
  {
   "cell_type": "code",
   "execution_count": 121,
   "metadata": {},
   "outputs": [
    {
     "data": {
      "text/html": [
       "<div>\n",
       "<style scoped>\n",
       "    .dataframe tbody tr th:only-of-type {\n",
       "        vertical-align: middle;\n",
       "    }\n",
       "\n",
       "    .dataframe tbody tr th {\n",
       "        vertical-align: top;\n",
       "    }\n",
       "\n",
       "    .dataframe thead th {\n",
       "        text-align: right;\n",
       "    }\n",
       "</style>\n",
       "<table border=\"1\" class=\"dataframe\">\n",
       "  <thead>\n",
       "    <tr style=\"text-align: right;\">\n",
       "      <th></th>\n",
       "      <th>0</th>\n",
       "      <th>1</th>\n",
       "      <th>2</th>\n",
       "    </tr>\n",
       "  </thead>\n",
       "  <tbody>\n",
       "    <tr>\n",
       "      <td>best_score</td>\n",
       "      <td>0.74409</td>\n",
       "      <td>0.707408</td>\n",
       "      <td>0.739498</td>\n",
       "    </tr>\n",
       "    <tr>\n",
       "      <td>best_iteration</td>\n",
       "      <td>59</td>\n",
       "      <td>75</td>\n",
       "      <td>60</td>\n",
       "    </tr>\n",
       "    <tr>\n",
       "      <td>best_ntree_limit</td>\n",
       "      <td>60</td>\n",
       "      <td>76</td>\n",
       "      <td>61</td>\n",
       "    </tr>\n",
       "    <tr>\n",
       "      <td>evals_result</td>\n",
       "      <td>{'train': {'aucpr': [0.002, 0.002, 0.002, 0.00...</td>\n",
       "      <td>{'train': {'aucpr': [0.002005, 0.002005, 0.002...</td>\n",
       "      <td>{'train': {'aucpr': [0.002005, 0.002005, 0.002...</td>\n",
       "    </tr>\n",
       "  </tbody>\n",
       "</table>\n",
       "</div>"
      ],
      "text/plain": [
       "                                                                  0  \\\n",
       "best_score                                                  0.74409   \n",
       "best_iteration                                                   59   \n",
       "best_ntree_limit                                                 60   \n",
       "evals_result      {'train': {'aucpr': [0.002, 0.002, 0.002, 0.00...   \n",
       "\n",
       "                                                                  1  \\\n",
       "best_score                                                 0.707408   \n",
       "best_iteration                                                   75   \n",
       "best_ntree_limit                                                 76   \n",
       "evals_result      {'train': {'aucpr': [0.002005, 0.002005, 0.002...   \n",
       "\n",
       "                                                                  2  \n",
       "best_score                                                 0.739498  \n",
       "best_iteration                                                   60  \n",
       "best_ntree_limit                                                 61  \n",
       "evals_result      {'train': {'aucpr': [0.002005, 0.002005, 0.002...  "
      ]
     },
     "execution_count": 121,
     "metadata": {},
     "output_type": "execute_result"
    }
   ],
   "source": [
    "cv_scores_df = pd.DataFrame(cv_scores)\n",
    "cv_scores_df"
   ]
  },
  {
   "cell_type": "code",
   "execution_count": 122,
   "metadata": {},
   "outputs": [
    {
     "data": {
      "application/vnd.jupyter.widget-view+json": {
       "model_id": "2813da1f91394107ba05696884af6fad",
       "version_major": 2,
       "version_minor": 0
      },
      "text/plain": [
       "HBox(children=(IntProgress(value=0, max=2000), HTML(value='')))"
      ]
     },
     "metadata": {},
     "output_type": "display_data"
    },
    {
     "data": {
      "text/html": [
       "<div>\n",
       "<style scoped>\n",
       "    .dataframe tbody tr th:only-of-type {\n",
       "        vertical-align: middle;\n",
       "    }\n",
       "\n",
       "    .dataframe tbody tr th {\n",
       "        vertical-align: top;\n",
       "    }\n",
       "\n",
       "    .dataframe thead th {\n",
       "        text-align: right;\n",
       "    }\n",
       "</style>\n",
       "<table border=\"1\" class=\"dataframe\">\n",
       "  <thead>\n",
       "    <tr style=\"text-align: right;\">\n",
       "      <th></th>\n",
       "      <th>train-auc-mean</th>\n",
       "      <th>train-auc-std</th>\n",
       "      <th>train-aucpr-mean</th>\n",
       "      <th>train-aucpr-std</th>\n",
       "      <th>train-error-mean</th>\n",
       "      <th>train-error-std</th>\n",
       "      <th>test-auc-mean</th>\n",
       "      <th>test-auc-std</th>\n",
       "      <th>test-aucpr-mean</th>\n",
       "      <th>test-aucpr-std</th>\n",
       "      <th>test-error-mean</th>\n",
       "      <th>test-error-std</th>\n",
       "    </tr>\n",
       "  </thead>\n",
       "  <tbody>\n",
       "    <tr>\n",
       "      <td>0</td>\n",
       "      <td>0.5</td>\n",
       "      <td>0.0</td>\n",
       "      <td>0.002003</td>\n",
       "      <td>0.000002</td>\n",
       "      <td>0.002003</td>\n",
       "      <td>0.000002</td>\n",
       "      <td>0.5</td>\n",
       "      <td>0.0</td>\n",
       "      <td>0.002004</td>\n",
       "      <td>0.000005</td>\n",
       "      <td>0.002004</td>\n",
       "      <td>0.000005</td>\n",
       "    </tr>\n",
       "  </tbody>\n",
       "</table>\n",
       "</div>"
      ],
      "text/plain": [
       "   train-auc-mean  train-auc-std  train-aucpr-mean  train-aucpr-std  \\\n",
       "0             0.5            0.0          0.002003         0.000002   \n",
       "\n",
       "   train-error-mean  train-error-std  test-auc-mean  test-auc-std  \\\n",
       "0          0.002003         0.000002            0.5           0.0   \n",
       "\n",
       "   test-aucpr-mean  test-aucpr-std  test-error-mean  test-error-std  \n",
       "0         0.002004        0.000005         0.002004        0.000005  "
      ]
     },
     "execution_count": 122,
     "metadata": {},
     "output_type": "execute_result"
    }
   ],
   "source": [
    "# %%time\n",
    "# another way to calc CV, but no model is returned or retained\n",
    "#\n",
    "d_train = xgb.DMatrix(X, y, feature_names=train_features)\n",
    "\n",
    "cv_scores = xgb.cv(params=params, dtrain=d_train, num_boost_round=num_round, nfold=3, stratified=True,\n",
    "                metrics=metrics, \n",
    "                      early_stopping_rounds=early_stop, verbose_eval=False,\n",
    "                      callbacks=[ xgb_progressbar(num_round),])\n",
    "cv_scores"
   ]
  },
  {
   "cell_type": "code",
   "execution_count": 123,
   "metadata": {},
   "outputs": [],
   "source": [
    "# I can't use the sklearn API because I get this error: ValueError: y contains previously unseen labels: 29\n",
    "#\n",
    "# %%time\n",
    "# from sklearn.model_selection import StratifiedKFold\n",
    "\n",
    "# cv = StratifiedKFold(n_splits=3, shuffle=True, random_state=random_state)\n",
    "\n",
    "# clf = xgb.XGBClassifier(**params)\n",
    "\n",
    "# for i, (train_index, valid_index) in enumerate(skf.split(X, y)):\n",
    "#     X_train, X_valid = X[train_index], X[valid_index]\n",
    "#     y_train, y_valid = y[train_index], y[valid_index]\n",
    "\n",
    "#     evals_result ={}\n",
    "\n",
    "#     clf.fit(X_train, y_train, eval_set=[(X_valid),(y_valid)],\n",
    "#             early_stopping_rounds=early_stop, verbose=False,\n",
    "#             callbacks=[ xgb_progressbar(num_round),]) # use either the progress bar or the plot\n",
    "#                                      # plot_perf_i(evals_result)]) \n",
    "\n",
    "#     print(\"Best Score:%f, best iteration:%d, best ntree:%d\" % \n",
    "#           (xgb_model.best_score, xgb_model.best_iteration, xgb_model.best_ntree_limit))"
   ]
  },
  {
   "cell_type": "code",
   "execution_count": 124,
   "metadata": {},
   "outputs": [
    {
     "data": {
      "image/png": "[encoded data removed]",
      "text/plain": [
       "<Figure size 720x1080 with 3 Axes>"
      ]
     },
     "metadata": {
      "needs_background": "light"
     },
     "output_type": "display_data"
    }
   ],
   "source": [
    "plot_perf(evals_result, xgb_model.best_ntree_limit)"
   ]
  },
  {
   "cell_type": "code",
   "execution_count": 38,
   "metadata": {},
   "outputs": [],
   "source": [
    "train_preds = xgb_model.predict(d_train, ntree_limit=xgb_model.best_ntree_limit)\n",
    "valid_preds = xgb_model.predict(d_valid, ntree_limit=xgb_model.best_ntree_limit)"
   ]
  },
  {
   "cell_type": "code",
   "execution_count": 39,
   "metadata": {},
   "outputs": [],
   "source": [
    "from sklearn.metrics import roc_auc_score\n",
    "from sklearn.metrics import auc\n",
    "# from sklearn.metrics import plot_roc_curve  # only sklearn after version 0.22 \n",
    "from sklearn.metrics import precision_recall_curve\n",
    "from scikitplot.metrics import plot_precision_recall_curve\n",
    "from sklearn.metrics import average_precision_score"
   ]
  },
  {
   "cell_type": "code",
   "execution_count": 40,
   "metadata": {},
   "outputs": [
    {
     "name": "stdout",
     "output_type": "stream",
     "text": [
      "Train AUC = 0.7841419061464051\n",
      "Valid AUC = 0.7391515323896403\n"
     ]
    }
   ],
   "source": [
    "print('Train AUC =',roc_auc_score(y_train, train_preds))\n",
    "print('Valid AUC =',roc_auc_score(y_valid, valid_preds))"
   ]
  },
  {
   "cell_type": "code",
   "execution_count": 41,
   "metadata": {},
   "outputs": [],
   "source": [
    "from sklearn import metrics\n",
    "def buildROC(target_test,test_preds,label=None, color='b'):\n",
    "    '''Compute micro-average ROC curve and ROC area\n",
    "        could be replaced by sklearn.metrics.plot_auc_curve in 0.22\n",
    "    '''\n",
    "    fpr, tpr, threshold = metrics.roc_curve(target_test, test_preds)\n",
    "    roc_auc = metrics.auc(fpr, tpr)\n",
    "    plt.rcParams[\"figure.figsize\"] = (6,6)\n",
    "    plt.plot(fpr, tpr, 'b', label = label+' AUC = %0.4f' % roc_auc, color=color)\n",
    "    plt.legend(loc = 'lower right')\n",
    "    plt.plot([0, 1], [0, 1],'r--')\n",
    "    plt.ylabel('True Positive Rate')\n",
    "    plt.xlabel('False Positive Rate')\n",
    "    plt.title('AUC')\n",
    "    return "
   ]
  },
  {
   "cell_type": "code",
   "execution_count": 42,
   "metadata": {},
   "outputs": [
    {
     "data": {
      "image/png": "[encoded data removed]",
      "text/plain": [
       "<Figure size 432x432 with 1 Axes>"
      ]
     },
     "metadata": {
      "needs_background": "light"
     },
     "output_type": "display_data"
    }
   ],
   "source": [
    "ax = buildROC(y_train, train_preds, label='Train')\n",
    "buildROC(y_valid, valid_preds, label='Valid', color='g')"
   ]
  },
  {
   "cell_type": "markdown",
   "metadata": {},
   "source": [
    "## Eval Test - this is broken ??? as y_test isn't properly mapped"
   ]
  },
  {
   "cell_type": "code",
   "execution_count": 43,
   "metadata": {},
   "outputs": [
    {
     "ename": "NameError",
     "evalue": "name 'X_test' is not defined",
     "output_type": "error",
     "traceback": [
      "\u001b[0;31m---------------------------------------------------------------------------\u001b[0m",
      "\u001b[0;31mNameError\u001b[0m                                 Traceback (most recent call last)",
      "\u001b[0;32m<ipython-input-43-c876607932de>\u001b[0m in \u001b[0;36m<module>\u001b[0;34m\u001b[0m\n\u001b[1;32m      1\u001b[0m \u001b[0;31m# Predict on test data\u001b[0m\u001b[0;34m\u001b[0m\u001b[0;34m\u001b[0m\u001b[0;34m\u001b[0m\u001b[0m\n\u001b[0;32m----> 2\u001b[0;31m \u001b[0md_test\u001b[0m \u001b[0;34m=\u001b[0m \u001b[0mxgb\u001b[0m\u001b[0;34m.\u001b[0m\u001b[0mDMatrix\u001b[0m\u001b[0;34m(\u001b[0m\u001b[0mX_test\u001b[0m\u001b[0;34m,\u001b[0m \u001b[0my_test\u001b[0m\u001b[0;34m,\u001b[0m \u001b[0mfeature_names\u001b[0m\u001b[0;34m=\u001b[0m\u001b[0mtest_features\u001b[0m\u001b[0;34m)\u001b[0m\u001b[0;34m\u001b[0m\u001b[0;34m\u001b[0m\u001b[0m\n\u001b[0m\u001b[1;32m      3\u001b[0m \u001b[0;34m\u001b[0m\u001b[0m\n\u001b[1;32m      4\u001b[0m \u001b[0mpreds\u001b[0m \u001b[0;34m=\u001b[0m \u001b[0mxgb_model\u001b[0m\u001b[0;34m.\u001b[0m\u001b[0mpredict\u001b[0m\u001b[0;34m(\u001b[0m\u001b[0md_test\u001b[0m\u001b[0;34m,\u001b[0m \u001b[0mntree_limit\u001b[0m\u001b[0;34m=\u001b[0m\u001b[0mxgb_model\u001b[0m\u001b[0;34m.\u001b[0m\u001b[0mbest_ntree_limit\u001b[0m\u001b[0;34m)\u001b[0m\u001b[0;34m\u001b[0m\u001b[0;34m\u001b[0m\u001b[0m\n",
      "\u001b[0;31mNameError\u001b[0m: name 'X_test' is not defined"
     ]
    }
   ],
   "source": [
    "# Predict on test data\n",
    "d_test = xgb.DMatrix(X_test, y_test, feature_names=test_features)\n",
    "\n",
    "preds = xgb_model.predict(d_test, ntree_limit=xgb_model.best_ntree_limit)"
   ]
  },
  {
   "cell_type": "code",
   "execution_count": null,
   "metadata": {},
   "outputs": [],
   "source": [
    "y_scores = preds"
   ]
  },
  {
   "cell_type": "code",
   "execution_count": null,
   "metadata": {},
   "outputs": [],
   "source": [
    "print('AUC =',roc_auc_score(y_test, y_scores))"
   ]
  },
  {
   "cell_type": "code",
   "execution_count": null,
   "metadata": {},
   "outputs": [],
   "source": [
    "# fig, ax = plt.subplots()\n",
    "# plot_roc_curve(xgb_model, X_test, y_test, ax=ax)\n",
    "# ax.plot([0, 1], [0, 1], linestyle='--', lw=2, color='r',\n",
    "#         label='Chance', alpha=.8)\n",
    "\n",
    "# ax.set(xlim=[-0.05, 1.05], ylim=[-0.05, 1.05],\n",
    "#        title=\"AUC\")\n",
    "# ax.legend(loc=\"lower right\")\n",
    "# plt.show()"
   ]
  },
  {
   "cell_type": "code",
   "execution_count": null,
   "metadata": {},
   "outputs": [],
   "source": [
    "buildROC(y_test,preds)"
   ]
  },
  {
   "cell_type": "code",
   "execution_count": null,
   "metadata": {},
   "outputs": [],
   "source": [
    "# !pip install scikit-plot"
   ]
  },
  {
   "cell_type": "code",
   "execution_count": null,
   "metadata": {},
   "outputs": [],
   "source": [
    "# import scikitplot as skplt\n",
    "# plt.rcParams[\"figure.figsize\"] = (10,10)\n",
    "# skplt.metrics.plot_roc(y_test, preds)"
   ]
  },
  {
   "cell_type": "code",
   "execution_count": null,
   "metadata": {},
   "outputs": [],
   "source": [
    "average_precision = average_precision_score(y_test, y_scores)\n",
    "print('PRAUC = ', average_precision)"
   ]
  },
  {
   "cell_type": "code",
   "execution_count": null,
   "metadata": {},
   "outputs": [],
   "source": [
    "plt.rcParams[\"figure.figsize\"] = (15,40)\n",
    "ax = xgb.plot_importance(xgb_model)"
   ]
  },
  {
   "cell_type": "code",
   "execution_count": null,
   "metadata": {},
   "outputs": [],
   "source": [
    "importance = xgb_model.get_fscore()\n",
    "importance = pd.DataFrame.from_dict(importance.items())\n",
    "importance.columns=['column','importance']\n",
    "importance.sort_values(by='importance', ascending=False)"
   ]
  },
  {
   "cell_type": "code",
   "execution_count": null,
   "metadata": {},
   "outputs": [],
   "source": [
    "importance = importance.set_index('column').join(col_concepts.set_index('column'),how='left').sort_values(by='importance', ascending=False)"
   ]
  },
  {
   "cell_type": "code",
   "execution_count": null,
   "metadata": {},
   "outputs": [],
   "source": [
    "importance[10:50]"
   ]
  },
  {
   "cell_type": "code",
   "execution_count": null,
   "metadata": {},
   "outputs": [],
   "source": [
    "observation = pd.read_csv('v2/app/concept_codes_final/observation_concepts.csv')\n",
    "observation.head()"
   ]
  },
  {
   "cell_type": "code",
   "execution_count": null,
   "metadata": {},
   "outputs": [],
   "source": [
    "observation[observation.observation_concept_id == 4058860]"
   ]
  },
  {
   "cell_type": "markdown",
   "metadata": {},
   "source": [
    "## Full train"
   ]
  },
  {
   "cell_type": "code",
   "execution_count": null,
   "metadata": {},
   "outputs": [],
   "source": [
    "params = {\n",
    "    'eval_metric': 'auc',\n",
    "    'tree_method' : 'auto',\n",
    "    'random_state' : 1234,\n",
    "    'reg_lambda' : 1.0,\n",
    "    'min_child_weight' : 1.0,\n",
    "    'max_bin' : 256,\n",
    "    'min_split_loss' : 0.01,\n",
    "    'max_depth' : 10,\n",
    "    'reg_alpha' : 0.0,\n",
    "    'colsample_bylevel' : 1.0,\n",
    "    'scale_pos_weight' : 1.0,\n",
    "    'max_delta_step' : 0.0,\n",
    "    'learning_rate' : 0.05,\n",
    "    'n_estimators' : 1000,\n",
    "    'num_parallel_tree' : 1,\n",
    "    'colsample_bytree' : 0.5,\n",
    "    'subsample' : 1.0,\n",
    "    'n_jobs': -1.0,\n",
    "}\n",
    "\n",
    "num_round = 100"
   ]
  },
  {
   "cell_type": "code",
   "execution_count": null,
   "metadata": {},
   "outputs": [],
   "source": [
    "df_preds = pd.DataFrame()\n",
    "evals_result ={}\n",
    "\n",
    "d_train_full = xgb.DMatrix(X, y, feature_names=train_features)\n",
    "watchlist = [(d_train_full, 'train_full')]\n",
    "\n",
    "xgb_model = xgb.train(params, d_train_full, num_round, watchlist,\n",
    "                      early_stopping_rounds=50, maximize=True, \n",
    "                      verbose_eval=False, callbacks=[xgb_progressbar(num_round), ])\n",
    "\n",
    "print(xgb_model.best_score, xgb_model.best_ntree_limit)"
   ]
  },
  {
   "cell_type": "code",
   "execution_count": null,
   "metadata": {},
   "outputs": [],
   "source": [
    "model_file = 'xgb_model.joblib'\n",
    "dump(xgb_model, model_file)"
   ]
  },
  {
   "cell_type": "code",
   "execution_count": null,
   "metadata": {},
   "outputs": [],
   "source": [
    "xgb_model_2 = load(model_file)\n",
    "type(xgb_model_2)"
   ]
  }
 ],
 "metadata": {
  "kernelspec": {
   "display_name": "Python 3",
   "language": "python",
   "name": "python3"
  },
  "language_info": {
   "codemirror_mode": {
    "name": "ipython",
    "version": 3
   },
   "file_extension": ".py",
   "mimetype": "text/x-python",
   "name": "python",
   "nbconvert_exporter": "python",
   "pygments_lexer": "ipython3",
   "version": "3.7.4"
  }
 },
 "nbformat": 4,
 "nbformat_minor": 4
}
